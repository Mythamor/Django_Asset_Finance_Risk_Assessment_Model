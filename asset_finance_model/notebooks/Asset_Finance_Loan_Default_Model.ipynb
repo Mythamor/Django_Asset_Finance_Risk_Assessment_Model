{
 "cells": [
  {
   "cell_type": "markdown",
   "metadata": {},
   "source": [
    "<div align=\"center\">\n",
    "    \n",
    "# Asset Finance Risk Assessment Model\n",
    "## Binary Classification\n",
    "<p><b>Logistic Regression</b></p>\n",
    "<p><b>Random Forest</b></p>\n",
    "<p><b>Gradient Boosting</b></p>\n",
    "<p><b>XGBoost</b></p>\n",
    "\n",
    "> Author: [Mithamo Beth](https://github.com/Mythamor) \n",
    "</div>"
   ]
  },
  {
   "cell_type": "markdown",
   "metadata": {},
   "source": [
    "## Preprocessing Pipeline (Pipe the final model)"
   ]
  },
  {
   "cell_type": "code",
   "execution_count": 1,
   "metadata": {},
   "outputs": [],
   "source": [
    "# Import the relevant libraries\n",
    "import pandas as pd\n",
    "import numpy as np\n",
    "import duckdb\n",
    "import sweetviz as sv\n",
    "\n",
    "# Visualization libraries\n",
    "import matplotlib.pyplot as plt\n",
    "%matplotlib inline\n",
    "import seaborn as sns\n",
    "\n",
    "# Set the layout\n",
    "sns.set_style(\"darkgrid\");\n",
    "\n",
    "# Set the color palette\n",
    "sns.set_palette(\"Set2\");\n",
    "\n",
    "# Set the default figsize\n",
    "plt.rcParams[\"figure.figsize\"] = (6, 4);\n",
    "\n",
    "# Ignore warnings\n",
    "import warnings\n",
    "warnings.filterwarnings('ignore')"
   ]
  },
  {
   "cell_type": "code",
   "execution_count": 2,
   "metadata": {},
   "outputs": [
    {
     "data": {
      "text/html": [
       "<div>\n",
       "<style scoped>\n",
       "    .dataframe tbody tr th:only-of-type {\n",
       "        vertical-align: middle;\n",
       "    }\n",
       "\n",
       "    .dataframe tbody tr th {\n",
       "        vertical-align: top;\n",
       "    }\n",
       "\n",
       "    .dataframe thead th {\n",
       "        text-align: right;\n",
       "    }\n",
       "</style>\n",
       "<table border=\"1\" class=\"dataframe\">\n",
       "  <thead>\n",
       "    <tr style=\"text-align: right;\">\n",
       "      <th></th>\n",
       "      <th>Disbursed_amount</th>\n",
       "      <th>Asset_cost</th>\n",
       "      <th>Ltv</th>\n",
       "      <th>Manufacturer_id</th>\n",
       "      <th>Employment_type</th>\n",
       "      <th>State_id</th>\n",
       "      <th>Aadhar_flag</th>\n",
       "      <th>Voterid_flag</th>\n",
       "      <th>Perform_cns_score</th>\n",
       "      <th>Pri_no_of_accts</th>\n",
       "      <th>Pri_active_accts</th>\n",
       "      <th>New_accts_in_last_six_months</th>\n",
       "      <th>No_of_inquiries</th>\n",
       "      <th>Loan_default</th>\n",
       "      <th>Average_loan_tenure</th>\n",
       "      <th>Credit_history_length_months</th>\n",
       "      <th>Perform_cns_score_description</th>\n",
       "      <th>Age</th>\n",
       "    </tr>\n",
       "  </thead>\n",
       "  <tbody>\n",
       "    <tr>\n",
       "      <th>0</th>\n",
       "      <td>50578</td>\n",
       "      <td>58400</td>\n",
       "      <td>89.55</td>\n",
       "      <td>45</td>\n",
       "      <td>Salaried</td>\n",
       "      <td>6</td>\n",
       "      <td>1</td>\n",
       "      <td>0</td>\n",
       "      <td>0</td>\n",
       "      <td>0</td>\n",
       "      <td>0</td>\n",
       "      <td>0</td>\n",
       "      <td>0</td>\n",
       "      <td>0</td>\n",
       "      <td>0.00</td>\n",
       "      <td>0</td>\n",
       "      <td>No Bureau History Available</td>\n",
       "      <td>34</td>\n",
       "    </tr>\n",
       "    <tr>\n",
       "      <th>1</th>\n",
       "      <td>47145</td>\n",
       "      <td>65550</td>\n",
       "      <td>73.23</td>\n",
       "      <td>45</td>\n",
       "      <td>Self employed</td>\n",
       "      <td>6</td>\n",
       "      <td>1</td>\n",
       "      <td>0</td>\n",
       "      <td>598</td>\n",
       "      <td>1</td>\n",
       "      <td>1</td>\n",
       "      <td>0</td>\n",
       "      <td>0</td>\n",
       "      <td>1</td>\n",
       "      <td>1.92</td>\n",
       "      <td>23</td>\n",
       "      <td>I-Medium Risk</td>\n",
       "      <td>33</td>\n",
       "    </tr>\n",
       "    <tr>\n",
       "      <th>2</th>\n",
       "      <td>53278</td>\n",
       "      <td>61360</td>\n",
       "      <td>89.63</td>\n",
       "      <td>45</td>\n",
       "      <td>Self employed</td>\n",
       "      <td>6</td>\n",
       "      <td>1</td>\n",
       "      <td>0</td>\n",
       "      <td>0</td>\n",
       "      <td>0</td>\n",
       "      <td>0</td>\n",
       "      <td>0</td>\n",
       "      <td>0</td>\n",
       "      <td>0</td>\n",
       "      <td>0.00</td>\n",
       "      <td>0</td>\n",
       "      <td>No Bureau History Available</td>\n",
       "      <td>32</td>\n",
       "    </tr>\n",
       "    <tr>\n",
       "      <th>3</th>\n",
       "      <td>57513</td>\n",
       "      <td>66113</td>\n",
       "      <td>88.48</td>\n",
       "      <td>45</td>\n",
       "      <td>Self employed</td>\n",
       "      <td>6</td>\n",
       "      <td>1</td>\n",
       "      <td>0</td>\n",
       "      <td>305</td>\n",
       "      <td>3</td>\n",
       "      <td>0</td>\n",
       "      <td>0</td>\n",
       "      <td>1</td>\n",
       "      <td>1</td>\n",
       "      <td>0.67</td>\n",
       "      <td>15</td>\n",
       "      <td>L-Very High Risk</td>\n",
       "      <td>24</td>\n",
       "    </tr>\n",
       "    <tr>\n",
       "      <th>4</th>\n",
       "      <td>52378</td>\n",
       "      <td>60300</td>\n",
       "      <td>88.39</td>\n",
       "      <td>45</td>\n",
       "      <td>Self employed</td>\n",
       "      <td>6</td>\n",
       "      <td>1</td>\n",
       "      <td>0</td>\n",
       "      <td>0</td>\n",
       "      <td>0</td>\n",
       "      <td>0</td>\n",
       "      <td>0</td>\n",
       "      <td>1</td>\n",
       "      <td>1</td>\n",
       "      <td>0.00</td>\n",
       "      <td>0</td>\n",
       "      <td>No Bureau History Available</td>\n",
       "      <td>40</td>\n",
       "    </tr>\n",
       "  </tbody>\n",
       "</table>\n",
       "</div>"
      ],
      "text/plain": [
       "   Disbursed_amount  Asset_cost    Ltv  Manufacturer_id Employment_type  \\\n",
       "0             50578       58400  89.55               45        Salaried   \n",
       "1             47145       65550  73.23               45   Self employed   \n",
       "2             53278       61360  89.63               45   Self employed   \n",
       "3             57513       66113  88.48               45   Self employed   \n",
       "4             52378       60300  88.39               45   Self employed   \n",
       "\n",
       "   State_id  Aadhar_flag  Voterid_flag  Perform_cns_score  Pri_no_of_accts  \\\n",
       "0         6            1             0                  0                0   \n",
       "1         6            1             0                598                1   \n",
       "2         6            1             0                  0                0   \n",
       "3         6            1             0                305                3   \n",
       "4         6            1             0                  0                0   \n",
       "\n",
       "   Pri_active_accts  New_accts_in_last_six_months No_of_inquiries  \\\n",
       "0                 0                             0               0   \n",
       "1                 1                             0               0   \n",
       "2                 0                             0               0   \n",
       "3                 0                             0               1   \n",
       "4                 0                             0               1   \n",
       "\n",
       "   Loan_default  Average_loan_tenure  Credit_history_length_months  \\\n",
       "0             0                 0.00                             0   \n",
       "1             1                 1.92                            23   \n",
       "2             0                 0.00                             0   \n",
       "3             1                 0.67                            15   \n",
       "4             1                 0.00                             0   \n",
       "\n",
       "  Perform_cns_score_description  Age  \n",
       "0   No Bureau History Available   34  \n",
       "1                 I-Medium Risk   33  \n",
       "2   No Bureau History Available   32  \n",
       "3              L-Very High Risk   24  \n",
       "4   No Bureau History Available   40  "
      ]
     },
     "execution_count": 2,
     "metadata": {},
     "output_type": "execute_result"
    }
   ],
   "source": [
    "new_df = pd.read_csv('../data/new_df.csv', index_col=0)\n",
    "new_df.head()"
   ]
  },
  {
   "cell_type": "code",
   "execution_count": 3,
   "metadata": {},
   "outputs": [],
   "source": [
    "# Import preprocessing libraries\n",
    "from sklearn.model_selection import train_test_split, GridSearchCV,cross_val_score, RandomizedSearchCV\n",
    "from sklearn.preprocessing import MinMaxScaler, OneHotEncoder, StandardScaler\n",
    "from sklearn.impute import SimpleImputer"
   ]
  },
  {
   "cell_type": "code",
   "execution_count": 4,
   "metadata": {},
   "outputs": [
    {
     "name": "stdout",
     "output_type": "stream",
     "text": [
      "X_train: (163207, 17) \n",
      " X_test: (69947, 17)\n",
      "y_train: (163207,) \n",
      " y_test: (69947,)\n"
     ]
    }
   ],
   "source": [
    "# Split the target and predictor variables\n",
    "X = new_df.drop(['Loan_default'], axis=1)\n",
    "y = new_df['Loan_default']\n",
    "\n",
    "# Perfrom a train test split\n",
    "X_train,X_test,y_train,y_test = train_test_split(X, y, test_size=0.3, random_state=42)\n",
    "\n",
    "print('X_train:', X_train.shape, '\\n X_test:',X_test.shape)\n",
    "print('y_train:', y_train.shape, '\\n y_test:',y_test.shape)"
   ]
  },
  {
   "cell_type": "code",
   "execution_count": 5,
   "metadata": {},
   "outputs": [
    {
     "data": {
      "text/plain": [
       "81759     1\n",
       "115977    1\n",
       "51043     0\n",
       "18380     0\n",
       "192570    1\n",
       "Name: Loan_default, dtype: int64"
      ]
     },
     "execution_count": 5,
     "metadata": {},
     "output_type": "execute_result"
    }
   ],
   "source": [
    "y_train.head()"
   ]
  },
  {
   "cell_type": "code",
   "execution_count": 6,
   "metadata": {},
   "outputs": [
    {
     "data": {
      "text/html": [
       "<div>\n",
       "<style scoped>\n",
       "    .dataframe tbody tr th:only-of-type {\n",
       "        vertical-align: middle;\n",
       "    }\n",
       "\n",
       "    .dataframe tbody tr th {\n",
       "        vertical-align: top;\n",
       "    }\n",
       "\n",
       "    .dataframe thead th {\n",
       "        text-align: right;\n",
       "    }\n",
       "</style>\n",
       "<table border=\"1\" class=\"dataframe\">\n",
       "  <thead>\n",
       "    <tr style=\"text-align: right;\">\n",
       "      <th></th>\n",
       "      <th>Disbursed_amount</th>\n",
       "      <th>Asset_cost</th>\n",
       "      <th>Ltv</th>\n",
       "      <th>Manufacturer_id</th>\n",
       "      <th>Employment_type</th>\n",
       "      <th>State_id</th>\n",
       "      <th>Aadhar_flag</th>\n",
       "      <th>Voterid_flag</th>\n",
       "      <th>Perform_cns_score</th>\n",
       "      <th>Pri_no_of_accts</th>\n",
       "      <th>Pri_active_accts</th>\n",
       "      <th>New_accts_in_last_six_months</th>\n",
       "      <th>No_of_inquiries</th>\n",
       "      <th>Average_loan_tenure</th>\n",
       "      <th>Credit_history_length_months</th>\n",
       "      <th>Perform_cns_score_description</th>\n",
       "      <th>Age</th>\n",
       "    </tr>\n",
       "  </thead>\n",
       "  <tbody>\n",
       "    <tr>\n",
       "      <th>81759</th>\n",
       "      <td>56013</td>\n",
       "      <td>67722</td>\n",
       "      <td>85.64</td>\n",
       "      <td>86</td>\n",
       "      <td>Self employed</td>\n",
       "      <td>4</td>\n",
       "      <td>1</td>\n",
       "      <td>0</td>\n",
       "      <td>738</td>\n",
       "      <td>1</td>\n",
       "      <td>1</td>\n",
       "      <td>1</td>\n",
       "      <td>0</td>\n",
       "      <td>0.33</td>\n",
       "      <td>4</td>\n",
       "      <td>C-Very Low Risk</td>\n",
       "      <td>39</td>\n",
       "    </tr>\n",
       "    <tr>\n",
       "      <th>115977</th>\n",
       "      <td>53278</td>\n",
       "      <td>68455</td>\n",
       "      <td>79.76</td>\n",
       "      <td>86</td>\n",
       "      <td>Self employed</td>\n",
       "      <td>4</td>\n",
       "      <td>1</td>\n",
       "      <td>0</td>\n",
       "      <td>694</td>\n",
       "      <td>2</td>\n",
       "      <td>1</td>\n",
       "      <td>0</td>\n",
       "      <td>0</td>\n",
       "      <td>0.58</td>\n",
       "      <td>7</td>\n",
       "      <td>E-Low Risk</td>\n",
       "      <td>23</td>\n",
       "    </tr>\n",
       "    <tr>\n",
       "      <th>51043</th>\n",
       "      <td>27929</td>\n",
       "      <td>62459</td>\n",
       "      <td>48.03</td>\n",
       "      <td>45</td>\n",
       "      <td>Salaried</td>\n",
       "      <td>1</td>\n",
       "      <td>1</td>\n",
       "      <td>0</td>\n",
       "      <td>0</td>\n",
       "      <td>0</td>\n",
       "      <td>0</td>\n",
       "      <td>0</td>\n",
       "      <td>0</td>\n",
       "      <td>0.00</td>\n",
       "      <td>0</td>\n",
       "      <td>No Bureau History Available</td>\n",
       "      <td>39</td>\n",
       "    </tr>\n",
       "    <tr>\n",
       "      <th>18380</th>\n",
       "      <td>35275</td>\n",
       "      <td>64929</td>\n",
       "      <td>56.99</td>\n",
       "      <td>86</td>\n",
       "      <td>Self employed</td>\n",
       "      <td>3</td>\n",
       "      <td>1</td>\n",
       "      <td>0</td>\n",
       "      <td>690</td>\n",
       "      <td>10</td>\n",
       "      <td>2</td>\n",
       "      <td>2</td>\n",
       "      <td>0</td>\n",
       "      <td>1.33</td>\n",
       "      <td>37</td>\n",
       "      <td>E-Low Risk</td>\n",
       "      <td>55</td>\n",
       "    </tr>\n",
       "    <tr>\n",
       "      <th>192570</th>\n",
       "      <td>67582</td>\n",
       "      <td>81193</td>\n",
       "      <td>84.98</td>\n",
       "      <td>86</td>\n",
       "      <td>Missing</td>\n",
       "      <td>8</td>\n",
       "      <td>1</td>\n",
       "      <td>0</td>\n",
       "      <td>681</td>\n",
       "      <td>2</td>\n",
       "      <td>1</td>\n",
       "      <td>0</td>\n",
       "      <td>1</td>\n",
       "      <td>0.83</td>\n",
       "      <td>11</td>\n",
       "      <td>E-Low Risk</td>\n",
       "      <td>18</td>\n",
       "    </tr>\n",
       "  </tbody>\n",
       "</table>\n",
       "</div>"
      ],
      "text/plain": [
       "        Disbursed_amount  Asset_cost    Ltv  Manufacturer_id Employment_type  \\\n",
       "81759              56013       67722  85.64               86   Self employed   \n",
       "115977             53278       68455  79.76               86   Self employed   \n",
       "51043              27929       62459  48.03               45        Salaried   \n",
       "18380              35275       64929  56.99               86   Self employed   \n",
       "192570             67582       81193  84.98               86         Missing   \n",
       "\n",
       "        State_id  Aadhar_flag  Voterid_flag  Perform_cns_score  \\\n",
       "81759          4            1             0                738   \n",
       "115977         4            1             0                694   \n",
       "51043          1            1             0                  0   \n",
       "18380          3            1             0                690   \n",
       "192570         8            1             0                681   \n",
       "\n",
       "        Pri_no_of_accts  Pri_active_accts  New_accts_in_last_six_months  \\\n",
       "81759                 1                 1                             1   \n",
       "115977                2                 1                             0   \n",
       "51043                 0                 0                             0   \n",
       "18380                10                 2                             2   \n",
       "192570                2                 1                             0   \n",
       "\n",
       "       No_of_inquiries  Average_loan_tenure  Credit_history_length_months  \\\n",
       "81759                0                 0.33                             4   \n",
       "115977               0                 0.58                             7   \n",
       "51043                0                 0.00                             0   \n",
       "18380                0                 1.33                            37   \n",
       "192570               1                 0.83                            11   \n",
       "\n",
       "       Perform_cns_score_description  Age  \n",
       "81759                C-Very Low Risk   39  \n",
       "115977                    E-Low Risk   23  \n",
       "51043    No Bureau History Available   39  \n",
       "18380                     E-Low Risk   55  \n",
       "192570                    E-Low Risk   18  "
      ]
     },
     "execution_count": 6,
     "metadata": {},
     "output_type": "execute_result"
    }
   ],
   "source": [
    "X_train.head()"
   ]
  },
  {
   "cell_type": "code",
   "execution_count": 7,
   "metadata": {},
   "outputs": [
    {
     "name": "stdout",
     "output_type": "stream",
     "text": [
      "Numeric Columns:\n",
      " Index(['Disbursed_amount', 'Asset_cost', 'Ltv', 'Manufacturer_id', 'State_id',\n",
      "       'Aadhar_flag', 'Voterid_flag', 'Perform_cns_score', 'Pri_no_of_accts',\n",
      "       'Pri_active_accts', 'New_accts_in_last_six_months',\n",
      "       'Average_loan_tenure', 'Credit_history_length_months', 'Age'],\n",
      "      dtype='object')\n",
      "\n",
      "\n",
      "Categorical Columns\n",
      " :Index(['Employment_type', 'No_of_inquiries', 'Perform_cns_score_description'], dtype='object')\n",
      "\n",
      "\n"
     ]
    }
   ],
   "source": [
    "# Ensure these are correct numeric and categorical columns\n",
    "numeric_cols = X_train.select_dtypes(include=['int64', 'float64'])\n",
    "category_cols = X_train.select_dtypes(include=['object', 'category'])\n",
    "nums =  numeric_cols.columns\n",
    "cats = category_cols.columns\n",
    "print(f'Numeric Columns:\\n {nums}\\n\\n')\n",
    "print(f'Categorical Columns\\n :{cats}\\n\\n')"
   ]
  },
  {
   "cell_type": "code",
   "execution_count": 8,
   "metadata": {},
   "outputs": [
    {
     "data": {
      "text/plain": [
       "Index(['Disbursed_amount', 'Asset_cost', 'Ltv', 'Manufacturer_id', 'State_id',\n",
       "       'Aadhar_flag', 'Voterid_flag', 'Perform_cns_score', 'Pri_no_of_accts',\n",
       "       'Pri_active_accts', 'New_accts_in_last_six_months',\n",
       "       'Average_loan_tenure', 'Credit_history_length_months', 'Age'],\n",
       "      dtype='object')"
      ]
     },
     "execution_count": 8,
     "metadata": {},
     "output_type": "execute_result"
    }
   ],
   "source": [
    "# Confirm numeric columns\n",
    "nums =  numeric_cols.columns\n",
    "nums"
   ]
  },
  {
   "cell_type": "code",
   "execution_count": 9,
   "metadata": {},
   "outputs": [
    {
     "data": {
      "text/plain": [
       "Index(['Employment_type', 'No_of_inquiries', 'Perform_cns_score_description'], dtype='object')"
      ]
     },
     "execution_count": 9,
     "metadata": {},
     "output_type": "execute_result"
    }
   ],
   "source": [
    "# Confirm categorical columns\n",
    "cats = category_cols.columns\n",
    "cats"
   ]
  },
  {
   "cell_type": "code",
   "execution_count": 10,
   "metadata": {},
   "outputs": [],
   "source": [
    "from sklearn.preprocessing import StandardScaler, LabelEncoder, OneHotEncoder\n",
    "from sklearn.pipeline import Pipeline\n",
    "from sklearn.compose import ColumnTransformer"
   ]
  },
  {
   "cell_type": "code",
   "execution_count": 11,
   "metadata": {},
   "outputs": [],
   "source": [
    "# Data Preprocessing pipeline\n",
    "# Numerical pipeline\n",
    "numerical_pipeline = Pipeline(steps=[\n",
    "    ('ss', StandardScaler())\n",
    "])\n",
    "\n",
    "# Categorical pipeline\n",
    "categorical_pipeline = Pipeline(steps=[\n",
    "    ('ohe', OneHotEncoder())\n",
    "])\n",
    "\n",
    "# Combined preprocessed data\n",
    "trans = ColumnTransformer(transformers=[\n",
    "    ('numerical', numerical_pipeline, nums),\n",
    "    ('categorical', categorical_pipeline, cats)\n",
    "], remainder=\"passthrough\")\n",
    "\n",
    "# Preprocesing pipeline\n",
    "preprocessing_pipe = Pipeline(steps=[\n",
    "                    ('col_trans', trans)\n",
    "                    ])\n"
   ]
  },
  {
   "cell_type": "code",
   "execution_count": 16,
   "metadata": {},
   "outputs": [
    {
     "name": "stdout",
     "output_type": "stream",
     "text": [
      "Applying preprocessing pipeline...\n",
      "Shape after preprocessing: (163207, 41)\n"
     ]
    }
   ],
   "source": [
    "# FIT AND TRANSFORM the training data\n",
    "print(\"Applying preprocessing pipeline...\")\n",
    "X_train_preprocessed = preprocessing_pipe.fit_transform(X_train)\n",
    "\n",
    "# Check the shape after preprocessing\n",
    "print(f\"Shape after preprocessing: {X_train_preprocessed.shape}\")\n"
   ]
  },
  {
   "cell_type": "code",
   "execution_count": 20,
   "metadata": {},
   "outputs": [
    {
     "name": "stdout",
     "output_type": "stream",
     "text": [
      "Applying preprocessing pipeline...\n",
      "Shape after preprocessing: (69947, 41)\n"
     ]
    }
   ],
   "source": [
    "# FIT AND TRANSFORM the testing data\n",
    "print(\"Applying preprocessing pipeline...\")\n",
    "X_test_preprocessed = preprocessing_pipe.fit_transform(X_test)\n",
    "\n",
    "# Check the shape after preprocessing\n",
    "print(f\"Shape after preprocessing: {X_test_preprocessed.shape}\")\n"
   ]
  },
  {
   "cell_type": "markdown",
   "metadata": {},
   "source": [
    "# Classification Modeling"
   ]
  },
  {
   "cell_type": "markdown",
   "metadata": {},
   "source": [
    "If capturing all actual loan defaults is more important, prioritize recall. Recall (also known as sensitivity or true positive rate) measures the proportion of correctly predicted positive instances (loan defaults) out of all actual positive instances. Recall focuses on the ability of the model to capture all positive instances, which is crucial in identifying all actual loan defaults and minimizing false negatives."
   ]
  },
  {
   "cell_type": "code",
   "execution_count": 12,
   "metadata": {},
   "outputs": [],
   "source": [
    "# Classification modeling libraries\n",
    "from sklearn.model_selection import GridSearchCV\n",
    "from sklearn.linear_model import LogisticRegression\n",
    "from sklearn import tree\n",
    "from sklearn.ensemble import BaggingClassifier, RandomForestClassifier, AdaBoostClassifier, GradientBoostingClassifier\n",
    "from sklearn.metrics import confusion_matrix, ConfusionMatrixDisplay, f1_score, accuracy_score, recall_score\\\n",
    ",roc_curve, auc, precision_score, RocCurveDisplay"
   ]
  },
  {
   "cell_type": "code",
   "execution_count": 13,
   "metadata": {},
   "outputs": [],
   "source": [
    "from sklearn.metrics import (accuracy_score, recall_score, precision_score,\n",
    "                             f1_score, confusion_matrix, roc_curve, auc, \n",
    "                             ConfusionMatrixDisplay, RocCurveDisplay)\n",
    "import seaborn as sns\n",
    "import matplotlib.pyplot as plt\n",
    "import pandas as pd\n",
    "import numpy as np\n",
    "\n",
    "# Function for model evaluation\n",
    "def eval_model(model, X_test, y_test, n_classes=None):\n",
    "    preds = model.predict(X_test)\n",
    "    probs = model.predict_proba(X_test)\n",
    "    \n",
    "    accuracy = accuracy_score(y_test, preds)\n",
    "    recall = recall_score(y_test, preds, average='weighted')\n",
    "    precision = precision_score(y_test, preds, average='weighted')\n",
    "    f1 = f1_score(y_test, preds, average='weighted')\n",
    "    con_max = confusion_matrix(y_test, preds)\n",
    "    \n",
    "    if n_classes is None:\n",
    "        n_classes = model.classes_\n",
    "    \n",
    "    # Display the confusion matrix\n",
    "    plt.figure(figsize=(8, 6))\n",
    "    disp = ConfusionMatrixDisplay(con_max, display_labels=n_classes)\n",
    "    disp.plot(cmap=plt.cm.magma)\n",
    "    plt.title(\"Confusion Matrix\")\n",
    "    plt.xlabel('Predicted Label')\n",
    "    plt.ylabel('True Label')\n",
    "    plt.show()\n",
    "\n",
    "    print(\"\\n\")\n",
    "    print(\"Accuracy: \", accuracy)\n",
    "    print(\"Precision: \", precision)\n",
    "    print(\"Recall: \", recall)\n",
    "    print(\"F1: \", f1)\n",
    "    \n",
    "    # ROC Curve for multiclass (One-vs-Rest)\n",
    "    plt.figure(figsize=(10, 8))\n",
    "    for i in range(len(n_classes)):\n",
    "        fpr, tpr, _ = roc_curve(y_test, probs[:, i], pos_label=i)\n",
    "        roc_auc = auc(fpr, tpr)\n",
    "        plt.plot(fpr, tpr, label=f'ROC curve for {n_classes[i]} (area = {roc_auc:.2f})')\n",
    "\n",
    "    # Plot the chance level line\n",
    "    plt.plot([0, 1], [0, 1], color='darkorange', linestyle='--')\n",
    "    plt.title('Receiver Operating Characteristic (ROC) Curve')\n",
    "    plt.xlabel('False Positive Rate')\n",
    "    plt.ylabel('True Positive Rate')\n",
    "    plt.legend(loc='lower right')\n",
    "    plt.show()\n",
    "\n",
    "    results_df = pd.DataFrame()\n",
    "    results_df['true_class'] = y_test\n",
    "    results_df['predicted_class'] = preds\n",
    "    results_df['predicted_probabilities'] = list(probs)\n",
    "\n",
    "    # Plot the distribution of probabilities for the estimated classes\n",
    "    for i in range(len(n_classes)):\n",
    "        sns.kdeplot(results_df[results_df['true_class'] == n_classes[i]]['predicted_probabilities'][:, i],\n",
    "                    label=f\"{n_classes[i]}\", fill=True)\n",
    "\n",
    "    plt.title('Probability Distributions for Each Class')\n",
    "    plt.xlabel('Predicted Probability')\n",
    "    plt.ylabel('Density')\n",
    "    plt.legend()\n",
    "    plt.show()\n",
    "    \n",
    "    # See the true class versus predicted class as a percentage\n",
    "    print(results_df.groupby('true_class')['predicted_class'].value_counts(normalize=True))"
   ]
  },
  {
   "cell_type": "markdown",
   "metadata": {},
   "source": [
    "### Class Imbalance"
   ]
  },
  {
   "cell_type": "code",
   "execution_count": 17,
   "metadata": {},
   "outputs": [
    {
     "name": "stdout",
     "output_type": "stream",
     "text": [
      "Original class distribution: \n",
      "\n",
      "Loan_default\n",
      "0    182543\n",
      "1     50611\n",
      "Name: count, dtype: int64\n",
      "-----------------------------------------\n",
      "Synthetic sample class distribution: \n",
      "\n",
      "Loan_default\n",
      "1    127787\n",
      "0    127787\n",
      "Name: count, dtype: int64\n"
     ]
    }
   ],
   "source": [
    "# Class imbalance \n",
    "from imblearn.over_sampling import SMOTE\n",
    "from sklearn.utils import resample\n",
    "\n",
    "# Previous original class distribution\n",
    "print('Original class distribution: \\n')\n",
    "print(new_df['Loan_default'].value_counts())\n",
    "\n",
    "smote = SMOTE()\n",
    "X_train_resampled, y_train_resampled = smote.fit_resample(X_train_preprocessed, y_train) \n",
    "# Preview synthetic sample class distribution\n",
    "\n",
    "print('-----------------------------------------')\n",
    "print('Synthetic sample class distribution: \\n')\n",
    "print(pd.Series(y_train_resampled).value_counts()) "
   ]
  },
  {
   "cell_type": "code",
   "execution_count": 21,
   "metadata": {},
   "outputs": [
    {
     "name": "stdout",
     "output_type": "stream",
     "text": [
      "LogisticRegression(C=1e+20, fit_intercept=False)\n",
      "AUC for 0.5: 0.6306388910132017\n",
      "-------------------------------------------------------------------------------------\n",
      "LogisticRegression(C=1e+20, fit_intercept=False)\n",
      "AUC for 0.7: 0.6306033283093756\n",
      "-------------------------------------------------------------------------------------\n",
      "LogisticRegression(C=1e+20, fit_intercept=False)\n",
      "AUC for even: 0.630777634969135\n",
      "-------------------------------------------------------------------------------------\n"
     ]
    },
    {
     "data": {
      "text/plain": [
       "<Figure size 1000x800 with 0 Axes>"
      ]
     },
     "metadata": {},
     "output_type": "display_data"
    },
    {
     "data": {
      "text/plain": [
       "<Figure size 1000x800 with 0 Axes>"
      ]
     },
     "metadata": {},
     "output_type": "display_data"
    },
    {
     "data": {
      "image/png": "[encoded data removed]",
      "text/plain": [
       "<Figure size 1000x800 with 1 Axes>"
      ]
     },
     "metadata": {},
     "output_type": "display_data"
    }
   ],
   "source": [
    "# Now let's compare a few different ratios of minority class to majority class\n",
    "ratios = [0.5, 0.7, 1]\n",
    "names = ['0.5','0.7','even']\n",
    "colors = sns.color_palette('Set2')\n",
    "\n",
    "plt.figure(figsize=(10, 8))\n",
    "\n",
    "for n, ratio in enumerate(ratios):\n",
    "    # Fit a model\n",
    "    smote = SMOTE(sampling_strategy=ratio)\n",
    "    X_train_resampled, y_train_resampled = smote.fit_resample(X_train_preprocessed, y_train) \n",
    "    logreg = LogisticRegression(fit_intercept=False, C=1e20, solver ='lbfgs')\n",
    "    model_log = logreg.fit(X_train_resampled, y_train_resampled)\n",
    "    print(model_log)\n",
    "\n",
    "    # Predict\n",
    "    y_hat_test = logreg.predict(X_test_preprocessed)\n",
    "\n",
    "    y_score = logreg.decision_function(X_test_preprocessed)\n",
    "\n",
    "    fpr, tpr, thresholds = roc_curve(y_test, y_score)\n",
    "    \n",
    "    print('AUC for {}: {}'.format(names[n], auc(fpr, tpr)))\n",
    "    print('-------------------------------------------------------------------------------------')\n",
    "    lw = 2\n",
    "    plt.plot(fpr, tpr, color=colors[n],\n",
    "             lw=lw, label='ROC curve {}'.format(names[n]))\n",
    "\n",
    "plt.plot([0, 1], [0, 1], color='navy', lw=lw, linestyle='--')\n",
    "plt.xlim([0.0, 1.0])\n",
    "plt.ylim([0.0, 1.05])\n",
    "\n",
    "plt.yticks([i/20.0 for i in range(21)])\n",
    "plt.xticks([i/20.0 for i in range(21)])\n",
    "plt.xlabel('False Positive Rate')\n",
    "plt.ylabel('True Positive Rate')\n",
    "plt.title('Receiver operating characteristic (ROC) Curve')\n",
    "plt.legend(loc='lower right')\n",
    "plt.show()"
   ]
  },
  {
   "cell_type": "markdown",
   "metadata": {},
   "source": [
    "The best performing model is when our samples are balanced at  0.5. The smote model is not performing any better than the ordinary regression model though."
   ]
  },
  {
   "cell_type": "markdown",
   "metadata": {},
   "source": [
    "## Target Variable"
   ]
  },
  {
   "cell_type": "code",
   "execution_count": 22,
   "metadata": {},
   "outputs": [
    {
     "data": {
      "text/plain": [
       "Loan_default\n",
       "0    0.782975\n",
       "1    0.217025\n",
       "Name: proportion, dtype: float64"
      ]
     },
     "execution_count": 22,
     "metadata": {},
     "output_type": "execute_result"
    }
   ],
   "source": [
    "y_train.value_counts(normalize=True)"
   ]
  },
  {
   "cell_type": "markdown",
   "metadata": {},
   "source": [
    "## Binary Classification Models"
   ]
  },
  {
   "cell_type": "markdown",
   "metadata": {},
   "source": [
    "### Logistic Regression"
   ]
  },
  {
   "cell_type": "code",
   "execution_count": 25,
   "metadata": {},
   "outputs": [
    {
     "data": {
      "text/plain": [
       "\"smote = SMOTE(sampling_strategy='minority')\\nX_train_SMOTE, y_train_SMOTE = smote.fit_resample(X_train_preprocessed,y_train)\\n# Visualize the proportion of borrowers\\nshow_loan_distrib(y_train_SMOTE)\""
      ]
     },
     "execution_count": 25,
     "metadata": {},
     "output_type": "execute_result"
    }
   ],
   "source": [
    "\"\"\"smote = SMOTE(sampling_strategy='minority')\n",
    "X_train_SMOTE, y_train_SMOTE = smote.fit_resample(X_train_preprocessed,y_train)\n",
    "# Visualize the proportion of borrowers\n",
    "show_loan_distrib(y_train_SMOTE)\"\"\""
   ]
  },
  {
   "cell_type": "code",
   "execution_count": 28,
   "metadata": {},
   "outputs": [
    {
     "name": "stdout",
     "output_type": "stream",
     "text": [
      "Training Accuracy: 0.7827911792999075\n",
      "Testing Accuracy : 0.7823637897265072\n",
      "              precision    recall  f1-score   support\n",
      "\n",
      "           0       0.78      1.00      0.88     54756\n",
      "           1       0.36      0.00      0.01     15191\n",
      "\n",
      "    accuracy                           0.78     69947\n",
      "   macro avg       0.57      0.50      0.44     69947\n",
      "weighted avg       0.69      0.78      0.69     69947\n",
      "\n"
     ]
    }
   ],
   "source": [
    "from sklearn.linear_model import LogisticRegression\n",
    "from sklearn.metrics import classification_report\n",
    "\n",
    "# Instantiate and fit the model\n",
    "log_reg = LogisticRegression(solver='liblinear')\n",
    "log_reg.fit(X_train_preprocessed, y_train)\n",
    "\n",
    "# Make predictions\n",
    "preds = log_reg.predict(X_test_preprocessed)\n",
    "\n",
    "# Score the train and test data for model performance accuracy\n",
    "print(f'Training Accuracy: {log_reg.score(X_train_preprocessed, y_train)}')\n",
    "print(f'Testing Accuracy : {log_reg.score(X_test_preprocessed, y_test)}')\n",
    "\n",
    "# Evaluate the model\n",
    "print(classification_report(y_test, preds))"
   ]
  },
  {
   "cell_type": "markdown",
   "metadata": {},
   "source": [
    "### Random Forest Classifier"
   ]
  },
  {
   "cell_type": "code",
   "execution_count": 29,
   "metadata": {},
   "outputs": [
    {
     "name": "stdout",
     "output_type": "stream",
     "text": [
      "Training Accuracy: 0.9994117899354807\n",
      "Testing Accuracy : 0.7753012995553776\n",
      "              precision    recall  f1-score   support\n",
      "\n",
      "           0       0.79      0.98      0.87     54756\n",
      "           1       0.36      0.05      0.08     15191\n",
      "\n",
      "    accuracy                           0.78     69947\n",
      "   macro avg       0.58      0.51      0.48     69947\n",
      "weighted avg       0.70      0.78      0.70     69947\n",
      "\n"
     ]
    }
   ],
   "source": [
    "from sklearn.ensemble import RandomForestClassifier\n",
    "\n",
    "# Instantiate and fit the model\n",
    "rfc = RandomForestClassifier(n_estimators=100, random_state=42)\n",
    "rfc.fit(X_train_preprocessed, y_train)\n",
    "\n",
    "# Make predictions\n",
    "preds = rfc.predict(X_test_preprocessed)\n",
    "\n",
    "# Score the train and test data for model performance accuracy\n",
    "print(f'Training Accuracy: {rfc.score(X_train_preprocessed, y_train)}')\n",
    "print(f'Testing Accuracy : {rfc.score(X_test_preprocessed, y_test)}')\n",
    "\n",
    "# Evaluate the model\n",
    "print(classification_report(y_test, preds))\n"
   ]
  },
  {
   "cell_type": "markdown",
   "metadata": {},
   "source": [
    "The random forest classifier overfits to the training data set"
   ]
  },
  {
   "cell_type": "code",
   "execution_count": 30,
   "metadata": {},
   "outputs": [
    {
     "name": "stdout",
     "output_type": "stream",
     "text": [
      "Training Accuracy: 0.5916719258365144\n",
      "Testing Accuracy : 0.574320556993152\n",
      "              precision    recall  f1-score   support\n",
      "\n",
      "           0       0.79      0.98      0.87     54756\n",
      "           1       0.36      0.05      0.08     15191\n",
      "\n",
      "    accuracy                           0.78     69947\n",
      "   macro avg       0.58      0.51      0.48     69947\n",
      "weighted avg       0.70      0.78      0.70     69947\n",
      "\n"
     ]
    }
   ],
   "source": [
    "# Hypertune Random Forest classifier\n",
    "rfc_1 = RandomForestClassifier(\n",
    "                        n_estimators=10,\n",
    "                        criterion='gini',\n",
    "                        min_samples_split=5,\n",
    "                        min_samples_leaf=3,\n",
    "                        max_depth=10, \n",
    "                        class_weight= \"balanced\")\n",
    "\n",
    "# Fit the clasifier\n",
    "rfc_1.fit(X_train_preprocessed, y_train) \n",
    "\n",
    "# Score the train and test data for model performance accuracy\n",
    "print(f'Training Accuracy: {rfc_1.score(X_train_preprocessed, y_train)}')\n",
    "print(f'Testing Accuracy : {rfc_1.score(X_test_preprocessed, y_test)}')\n",
    "\n",
    "# Evaluate the model\n",
    "print(classification_report(y_test, preds))"
   ]
  },
  {
   "cell_type": "code",
   "execution_count": null,
   "metadata": {},
   "outputs": [],
   "source": [
    "The tuned model performs worse than the logistic regression model"
   ]
  },
  {
   "cell_type": "markdown",
   "metadata": {},
   "source": [
    "### Gradient Boosting"
   ]
  },
  {
   "cell_type": "code",
   "execution_count": 31,
   "metadata": {},
   "outputs": [
    {
     "name": "stdout",
     "output_type": "stream",
     "text": [
      "Training Accuracy: 0.7831465562138878\n",
      "Testing Accuracy : 0.7826068308862424\n",
      "              precision    recall  f1-score   support\n",
      "\n",
      "           0       0.78      1.00      0.88     54756\n",
      "           1       0.27      0.00      0.00     15191\n",
      "\n",
      "    accuracy                           0.78     69947\n",
      "   macro avg       0.53      0.50      0.44     69947\n",
      "weighted avg       0.67      0.78      0.69     69947\n",
      "\n"
     ]
    }
   ],
   "source": [
    "from sklearn.ensemble import GradientBoostingClassifier\n",
    "\n",
    "# Instantiate and fit the model\n",
    "gbc = GradientBoostingClassifier(n_estimators=100, random_state=42)\n",
    "gbc.fit(X_train_preprocessed, y_train)\n",
    "\n",
    "# Make predictions\n",
    "preds = gbc.predict(X_test_preprocessed)\n",
    "\n",
    "# Score the train and test data for model performance accuracy\n",
    "print(f'Training Accuracy: {gbc.score(X_train_preprocessed, y_train)}')\n",
    "print(f'Testing Accuracy : {gbc.score(X_test_preprocessed, y_test)}')\n",
    "\n",
    "# Evaluate the model\n",
    "print(classification_report(y_test, preds))\n"
   ]
  },
  {
   "cell_type": "code",
   "execution_count": null,
   "metadata": {},
   "outputs": [],
   "source": [
    "This model performs better than the logistic regression by a very small margin"
   ]
  },
  {
   "cell_type": "markdown",
   "metadata": {},
   "source": [
    "### XGBoost"
   ]
  },
  {
   "cell_type": "markdown",
   "metadata": {},
   "source": [
    "####  Encode the target variable"
   ]
  },
  {
   "cell_type": "code",
   "execution_count": 32,
   "metadata": {},
   "outputs": [],
   "source": [
    "# Initialize the label encoder\n",
    "label_encoder = LabelEncoder()\n",
    "\n",
    "# Fit the label encoder and transform y_train and y_test\n",
    "y_train_encoded = label_encoder.fit_transform(y_train)\n",
    "y_test_encoded = label_encoder.transform(y_test)\n"
   ]
  },
  {
   "cell_type": "code",
   "execution_count": 33,
   "metadata": {},
   "outputs": [
    {
     "name": "stdout",
     "output_type": "stream",
     "text": [
      "Training Accuracy: 0.7907136336064017\n",
      "Testing Accuracy : 0.7804623500650493\n",
      "              precision    recall  f1-score   support\n",
      "\n",
      "           0       0.78      0.99      0.88     54756\n",
      "           1       0.37      0.02      0.03     15191\n",
      "\n",
      "    accuracy                           0.78     69947\n",
      "   macro avg       0.58      0.50      0.45     69947\n",
      "weighted avg       0.69      0.78      0.69     69947\n",
      "\n"
     ]
    }
   ],
   "source": [
    "import xgboost as xgb\n",
    "from sklearn.metrics import accuracy_score\n",
    "\n",
    "# Instantiate and fit the model\n",
    "xgb_model = xgb.XGBClassifier(use_label_encoder=False, eval_metric='mlogloss')\n",
    "xgb_model.fit(X_train_preprocessed, y_train)\n",
    "\n",
    "x_train = xgb_model.predict(X_train_preprocessed)\n",
    "preds = xgb_model.predict(X_test_preprocessed)\n",
    "\n",
    "# Calculate accuracy\n",
    "train_accuracy = accuracy_score(y_train, x_train)\n",
    "test_accuracy = accuracy_score(y_test, preds)\n",
    "\n",
    "print(f'Training Accuracy: {train_accuracy}')\n",
    "print(f'Testing Accuracy : {test_accuracy}')\n",
    "\n",
    "# Evaluate the model\n",
    "print(classification_report(y_test, preds))\n"
   ]
  },
  {
   "cell_type": "markdown",
   "metadata": {},
   "source": [
    "Thus far the XGBoost is the best performing model, but marginally than the Random Forest and Logistic Regression Model"
   ]
  },
  {
   "cell_type": "code",
   "execution_count": 34,
   "metadata": {},
   "outputs": [
    {
     "name": "stdout",
     "output_type": "stream",
     "text": [
      "Training Accuracy: 0.9994485530645132\n",
      "Testing Accuracy : 0.46100619040130386\n",
      "              precision    recall  f1-score   support\n",
      "\n",
      "           0       0.84      0.39      0.53     54756\n",
      "           1       0.25      0.73      0.37     15191\n",
      "\n",
      "    accuracy                           0.46     69947\n",
      "   macro avg       0.54      0.56      0.45     69947\n",
      "weighted avg       0.71      0.46      0.49     69947\n",
      "\n"
     ]
    }
   ],
   "source": [
    "from imblearn.pipeline import Pipeline\n",
    "\n",
    "rf_clf = RandomForestClassifier(criterion='gini', bootstrap=True, random_state=100)\n",
    "smote_sampler = SMOTE(random_state=9)\n",
    "pipeline = Pipeline(steps = [['smote', smote_sampler],\n",
    "                             ['classifier', rf_clf]])\n",
    "pipeline.fit(X_train_preprocessed, y_train)\n",
    "preds = pipeline.predict(X_test_preprocessed)\n",
    "\n",
    "# Score the train and test data for model performance accuracy\n",
    "print(f'Training Accuracy: {rf_clf.score(X_train_preprocessed, y_train)}')\n",
    "print(f'Testing Accuracy : {rf_clf.score(X_test_preprocessed, y_test)}')\n",
    "\n",
    "# Evaluate the model\n",
    "print(classification_report(y_test, preds))\n"
   ]
  },
  {
   "cell_type": "markdown",
   "metadata": {},
   "source": [
    "This model overfits to the training dataset, just like the Random Forest Classifier."
   ]
  },
  {
   "cell_type": "code",
   "execution_count": 36,
   "metadata": {},
   "outputs": [
    {
     "data": {
      "text/plain": [
       "<Figure size 800x600 with 0 Axes>"
      ]
     },
     "metadata": {},
     "output_type": "display_data"
    },
    {
     "data": {
      "image/png": "[encoded data removed]",
      "text/plain": [
       "<Figure size 600x400 with 2 Axes>"
      ]
     },
     "metadata": {},
     "output_type": "display_data"
    },
    {
     "name": "stdout",
     "output_type": "stream",
     "text": [
      "\n",
      "\n",
      "Accuracy:  0.46100619040130386\n",
      "Precision:  0.7107804281638054\n",
      "Recall:  0.46100619040130386\n",
      "F1:  0.494176579203137\n"
     ]
    },
    {
     "data": {
      "image/png": "[encoded data removed]",
      "text/plain": [
       "<Figure size 1000x800 with 1 Axes>"
      ]
     },
     "metadata": {},
     "output_type": "display_data"
    },
    {
     "ename": "KeyError",
     "evalue": "'key of type tuple not found and not a MultiIndex'",
     "output_type": "error",
     "traceback": [
      "\u001b[0;31m---------------------------------------------------------------------------\u001b[0m",
      "\u001b[0;31mKeyError\u001b[0m                                  Traceback (most recent call last)",
      "Cell \u001b[0;32mIn[36], line 1\u001b[0m\n\u001b[0;32m----> 1\u001b[0m eval_model(rf_clf, X_test_preprocessed, y_test)\n",
      "Cell \u001b[0;32mIn[13], line 60\u001b[0m, in \u001b[0;36meval_model\u001b[0;34m(model, X_test, y_test, n_classes)\u001b[0m\n\u001b[1;32m     58\u001b[0m \u001b[38;5;66;03m# Plot the distribution of probabilities for the estimated classes\u001b[39;00m\n\u001b[1;32m     59\u001b[0m \u001b[38;5;28;01mfor\u001b[39;00m i \u001b[38;5;129;01min\u001b[39;00m \u001b[38;5;28mrange\u001b[39m(\u001b[38;5;28mlen\u001b[39m(n_classes)):\n\u001b[0;32m---> 60\u001b[0m     sns\u001b[38;5;241m.\u001b[39mkdeplot(results_df[results_df[\u001b[38;5;124m'\u001b[39m\u001b[38;5;124mtrue_class\u001b[39m\u001b[38;5;124m'\u001b[39m] \u001b[38;5;241m==\u001b[39m n_classes[i]][\u001b[38;5;124m'\u001b[39m\u001b[38;5;124mpredicted_probabilities\u001b[39m\u001b[38;5;124m'\u001b[39m][:, i],\n\u001b[1;32m     61\u001b[0m                 label\u001b[38;5;241m=\u001b[39m\u001b[38;5;124mf\u001b[39m\u001b[38;5;124m\"\u001b[39m\u001b[38;5;132;01m{\u001b[39;00mn_classes[i]\u001b[38;5;132;01m}\u001b[39;00m\u001b[38;5;124m\"\u001b[39m, fill\u001b[38;5;241m=\u001b[39m\u001b[38;5;28;01mTrue\u001b[39;00m)\n\u001b[1;32m     63\u001b[0m plt\u001b[38;5;241m.\u001b[39mtitle(\u001b[38;5;124m'\u001b[39m\u001b[38;5;124mProbability Distributions for Each Class\u001b[39m\u001b[38;5;124m'\u001b[39m)\n\u001b[1;32m     64\u001b[0m plt\u001b[38;5;241m.\u001b[39mxlabel(\u001b[38;5;124m'\u001b[39m\u001b[38;5;124mPredicted Probability\u001b[39m\u001b[38;5;124m'\u001b[39m)\n",
      "File \u001b[0;32m~/anaconda3/lib/python3.11/site-packages/pandas/core/series.py:1153\u001b[0m, in \u001b[0;36mSeries.__getitem__\u001b[0;34m(self, key)\u001b[0m\n\u001b[1;32m   1150\u001b[0m     key \u001b[38;5;241m=\u001b[39m np\u001b[38;5;241m.\u001b[39masarray(key, dtype\u001b[38;5;241m=\u001b[39m\u001b[38;5;28mbool\u001b[39m)\n\u001b[1;32m   1151\u001b[0m     \u001b[38;5;28;01mreturn\u001b[39;00m \u001b[38;5;28mself\u001b[39m\u001b[38;5;241m.\u001b[39m_get_rows_with_mask(key)\n\u001b[0;32m-> 1153\u001b[0m \u001b[38;5;28;01mreturn\u001b[39;00m \u001b[38;5;28mself\u001b[39m\u001b[38;5;241m.\u001b[39m_get_with(key)\n",
      "File \u001b[0;32m~/anaconda3/lib/python3.11/site-packages/pandas/core/series.py:1163\u001b[0m, in \u001b[0;36mSeries._get_with\u001b[0;34m(self, key)\u001b[0m\n\u001b[1;32m   1158\u001b[0m     \u001b[38;5;28;01mraise\u001b[39;00m \u001b[38;5;167;01mTypeError\u001b[39;00m(\n\u001b[1;32m   1159\u001b[0m         \u001b[38;5;124m\"\u001b[39m\u001b[38;5;124mIndexing a Series with DataFrame is not \u001b[39m\u001b[38;5;124m\"\u001b[39m\n\u001b[1;32m   1160\u001b[0m         \u001b[38;5;124m\"\u001b[39m\u001b[38;5;124msupported, use the appropriate DataFrame column\u001b[39m\u001b[38;5;124m\"\u001b[39m\n\u001b[1;32m   1161\u001b[0m     )\n\u001b[1;32m   1162\u001b[0m \u001b[38;5;28;01melif\u001b[39;00m \u001b[38;5;28misinstance\u001b[39m(key, \u001b[38;5;28mtuple\u001b[39m):\n\u001b[0;32m-> 1163\u001b[0m     \u001b[38;5;28;01mreturn\u001b[39;00m \u001b[38;5;28mself\u001b[39m\u001b[38;5;241m.\u001b[39m_get_values_tuple(key)\n\u001b[1;32m   1165\u001b[0m \u001b[38;5;28;01melif\u001b[39;00m \u001b[38;5;129;01mnot\u001b[39;00m is_list_like(key):\n\u001b[1;32m   1166\u001b[0m     \u001b[38;5;66;03m# e.g. scalars that aren't recognized by lib.is_scalar, GH#32684\u001b[39;00m\n\u001b[1;32m   1167\u001b[0m     \u001b[38;5;28;01mreturn\u001b[39;00m \u001b[38;5;28mself\u001b[39m\u001b[38;5;241m.\u001b[39mloc[key]\n",
      "File \u001b[0;32m~/anaconda3/lib/python3.11/site-packages/pandas/core/series.py:1207\u001b[0m, in \u001b[0;36mSeries._get_values_tuple\u001b[0;34m(self, key)\u001b[0m\n\u001b[1;32m   1204\u001b[0m     \u001b[38;5;28;01mreturn\u001b[39;00m result\n\u001b[1;32m   1206\u001b[0m \u001b[38;5;28;01mif\u001b[39;00m \u001b[38;5;129;01mnot\u001b[39;00m \u001b[38;5;28misinstance\u001b[39m(\u001b[38;5;28mself\u001b[39m\u001b[38;5;241m.\u001b[39mindex, MultiIndex):\n\u001b[0;32m-> 1207\u001b[0m     \u001b[38;5;28;01mraise\u001b[39;00m \u001b[38;5;167;01mKeyError\u001b[39;00m(\u001b[38;5;124m\"\u001b[39m\u001b[38;5;124mkey of type tuple not found and not a MultiIndex\u001b[39m\u001b[38;5;124m\"\u001b[39m)\n\u001b[1;32m   1209\u001b[0m \u001b[38;5;66;03m# If key is contained, would have returned by now\u001b[39;00m\n\u001b[1;32m   1210\u001b[0m indexer, new_index \u001b[38;5;241m=\u001b[39m \u001b[38;5;28mself\u001b[39m\u001b[38;5;241m.\u001b[39mindex\u001b[38;5;241m.\u001b[39mget_loc_level(key)\n",
      "\u001b[0;31mKeyError\u001b[0m: 'key of type tuple not found and not a MultiIndex'"
     ]
    }
   ],
   "source": [
    "eval_model(rf_clf, X_test_preprocessed, y_test_en)"
   ]
  },
  {
   "cell_type": "code",
   "execution_count": null,
   "metadata": {},
   "outputs": [],
   "source": [
    "# RandomForest GridSearchCV\n",
    "rf_param_grid = {\n",
    "    'n_estimators': [10, 30, 100],\n",
    "    'criterion': ['gini', 'entropy'],\n",
    "    'max_depth': [None, 2, 6, 10],\n",
    "    'min_samples_split': [5, 10],\n",
    "    'min_samples_leaf': [3, 6]\n",
    "}\n",
    "\n",
    "# Instatiate the clasifier\n",
    "rf_clf = RandomForestClassifier()\n",
    "\n",
    "# Grid Search\n",
    "rf_grid_search = GridSearchCV(rf_clf, rf_param_grid, cv=3)\n",
    "\n",
    "# Fit the model\n",
    "rf_grid_search.fit(X_train_preprocessed, y_train)\n",
    "\n",
    "print(f\"Training Accuracy: {rf_grid_search.best_score_ :.2%}\")\n",
    "print(\"\")\n",
    "print(f\"Optimal Parameters: {rf_grid_search.best_params_}\")\n",
    "\n",
    "eval_model(rf_grid_search, X_test_preprocessed, y_test)"
   ]
  },
  {
   "cell_type": "code",
   "execution_count": null,
   "metadata": {},
   "outputs": [],
   "source": [
    "# Feature Importance\n",
    "feature_importance = rfc.feature_importances_\n",
    "\n",
    "# Create a DataFrame to associate feature names with coefficients\n",
    "coefficients_df = pd.DataFrame({'Feature': X_train_preprocessed.columns, 'Importance': feature_importance})\n",
    "\n",
    "coefficients_df = coefficients_df.sort_values(by='Importance', ascending=False)\n",
    "\n",
    "# Print the DataFrame with ranked coefficients\n",
    "selected = coefficients_df['Feature'].iloc[:30].to_list()\n",
    "selected"
   ]
  },
  {
   "cell_type": "code",
   "execution_count": null,
   "metadata": {},
   "outputs": [],
   "source": [
    "# The logloss of the RFC\n",
    "from sklearn.metrics import log_loss\n",
    "log_loss(y_test, rfc.predict_proba(X_test)[:, 1])"
   ]
  },
  {
   "cell_type": "markdown",
   "metadata": {},
   "source": [
    "> The rfc model, has still failed to catch up to the logistic model. Let's explore more ensemble methods before concluding."
   ]
  },
  {
   "cell_type": "markdown",
   "metadata": {},
   "source": [
    "## AdaBoost Classifier & GradientBoosting Classifier"
   ]
  },
  {
   "cell_type": "code",
   "execution_count": null,
   "metadata": {},
   "outputs": [],
   "source": [
    "# Instantiate an AdaBoostClassifier\n",
    "adaboost_clf =AdaBoostClassifier(n_estimators=100, learning_rate=2, random_state=0)\n",
    "\n",
    "# Fit AdaBoostClassifier\n",
    "adaboost_clf.fit(X_train_resampled, y_train_resampled)\n",
    "\n",
    "# AdaBoost model predictions\n",
    "adaboost_train_preds = adaboost_clf.predict(X_train_resampled)\n",
    "adaboost_test_preds = adaboost_clf.predict(X_test)\n",
    "\n",
    "def display_acc_and_f1_score(true, preds, model_name):\n",
    "    acc = accuracy_score(true, preds)\n",
    "    f1 = f1_score(true, preds)\n",
    "    print(\"Model: {}\".format(model_name))\n",
    "    print(\"Accuracy: {}\".format(acc))\n",
    "    print(\"F1-Score: {}\".format(f1))\n",
    "    \n",
    "\n",
    "# Adaboost Model Evaluation   \n",
    "print(\"Training Metrics\")\n",
    "display_acc_and_f1_score(y_train_resampled, adaboost_train_preds, model_name='Train AdaBoost')\n",
    "print(\"\")\n",
    "\n",
    "print(\"Testing Metrics\")\n",
    "display_acc_and_f1_score(y_test, adaboost_test_preds, model_name=' Test AdaBoost')\n",
    "print(\"\")\n",
    "\n",
    "eval_model(adaboost_clf, X_test, y_test)"
   ]
  },
  {
   "cell_type": "markdown",
   "metadata": {},
   "source": [
    "> Adaboosting performed very poorly on the test data and classifying the non_default loans"
   ]
  },
  {
   "cell_type": "code",
   "execution_count": null,
   "metadata": {},
   "outputs": [],
   "source": [
    "# Instantiate an GradientBoostingClassifier\n",
    "gbt_clf = GradientBoostingClassifier(learning_rate=0.1,\n",
    "                                    n_estimators=10,\n",
    "                                    random_state=42,\n",
    "                                    min_samples_split=3,\n",
    "                                    min_samples_leaf=2,\n",
    "                                    max_depth = 5,\n",
    "                                    max_features=5,\n",
    "                                    max_leaf_nodes=5)\n",
    "# Fit GradientBoostingClassifier\n",
    "gbt_clf.fit(X_train_resampled, y_train_resampled)\n",
    "\n",
    "# GradientBoosting model predictions\n",
    "gbt_clf_train_preds = gbt_clf.predict(X_train_resampled)\n",
    "gbt_clf_test_preds = gbt_clf.predict(X_test)\n",
    "\n",
    "# Gradient Boosting Evaluation\n",
    "display_acc_and_f1_score(y_train_resampled, gbt_clf_train_preds, model_name='Train Gradient Boosted Trees')\n",
    "print(\"\")\n",
    "display_acc_and_f1_score(y_test, gbt_clf_test_preds, model_name=' Test Gradient Boosted Trees')\n",
    "print()\n",
    "eval_model(gbt_clf, X_test, y_test)"
   ]
  },
  {
   "cell_type": "markdown",
   "metadata": {},
   "source": [
    "> This model may be very good at predicting loan deafults, but it fails miserably on all other metrics.\n",
    "> 92% of our non_defaults are classified as default. This could lead to business loss, due to the poor performance of the model, to accurately classify non_defaults."
   ]
  },
  {
   "cell_type": "code",
   "execution_count": null,
   "metadata": {},
   "outputs": [],
   "source": [
    "# Gradient Boosting GridSearch\n",
    "from sklearn.metrics import make_scorer\n",
    "# Instantiate the model\n",
    "gbc = GradientBoostingClassifier()\n",
    "\n",
    "# Parameter Grid\n",
    "param_grid = {\n",
    "    'n_estimators': [100, 200, 300],\n",
    "    'learning_rate': [0.1, 0.2],\n",
    "    'max_depth': [3, 6, 9],\n",
    "    'min_samples_leaf': [1, 3, 6],\n",
    "    'min_samples_split': [2, 3, 6],\n",
    "    'max_features': [20, 30, 50],\n",
    "    'subsample': [0.6, 0.8, 1.0]\n",
    "}\n",
    "\n",
    "scorer = make_scorer(roc_auc)\n",
    "# GridSearhCV\n",
    "grid_gbc = GridSearchCV(gbc, param_grid, scoring=scorer, cv=3, n_jobs=1)\n",
    "grid_gbc.fit(X_train_resampled, y_train_resampled)\n",
    "\n",
    "best_parameters = grid_gbc.best_params_\n",
    "\n",
    "print('Grid Search found the following optimal parameters: ')\n",
    "for param_name in sorted(best_parameters.keys()):\n",
    "    print('%s: %r' % (param_name, best_parameters[param_name]))\n",
    "\n",
    "training_probs = grid_gbc.predict_proba(X_train_resampled)[:, 1]\n",
    "test_probs = grid_gbc.predict_proba(X_test)[:, 1]\n",
    "training_auc = roc_auc_score(y_train_resampled, training_probs)\n",
    "test_auc = roc_auc_score(y_test, test_probs)\n",
    "\n",
    "print('')\n",
    "print('Training AUC-ROC: {:.4}'.format(training_auc))\n",
    "print('Validation AUC-ROC: {:.4}'.format(test_auc))\n",
    "\n",
    "eval_model(grid_gbc, X_test, y_test)"
   ]
  },
  {
   "cell_type": "markdown",
   "metadata": {},
   "source": [
    "## XGBoost Classifier"
   ]
  },
  {
   "cell_type": "code",
   "execution_count": null,
   "metadata": {},
   "outputs": [],
   "source": [
    "# Import XGBoosting\n",
    "from xgboost import XGBClassifier"
   ]
  },
  {
   "cell_type": "code",
   "execution_count": null,
   "metadata": {},
   "outputs": [],
   "source": [
    "learning_rate_range = np.arange(0.01, 1, 0.05)\n",
    "test_XG = []\n",
    "train_XG = []\n",
    "for lr in learning_rate_range:\n",
    "    xgb = XGBClassifier(eta=lr)\n",
    "    xgb.fit(X_train_resampled, y_train_resampled)\n",
    "    train_XG.append(xgb.score(X_train_resampled, y_train_resampled))\n",
    "    train_XG.append(xgb.score(X_test, y_test))"
   ]
  },
  {
   "cell_type": "code",
   "execution_count": null,
   "metadata": {},
   "outputs": [],
   "source": [
    "# Instantiate the model\n",
    "xgb = XGBClassifier()\n",
    "\n",
    "# Parameter Grid\n",
    "param_grid = {\n",
    "    'learning_rate': [0.1, 0.2],\n",
    "    'max_depth': [6],\n",
    "    'min_child_weight': [1, 2],\n",
    "    'subsample': [0.5, 0.7],\n",
    "    'n_estimators': [100],\n",
    "}\n",
    "\n",
    "# GridSearhCV\n",
    "grid_xgb = GridSearchCV(xgb, param_grid, scoring='accuracy', cv=3, n_jobs=1)\n",
    "grid_xgb.fit(X_train, y_train)\n",
    "\n",
    "best_parameters = grid_xgb.best_params_\n",
    "-----------------------------\n",
    "print('Grid Search found the following optimal parameters: ')\n",
    "for param_name in sorted(best_parameters.keys()):\n",
    "    print(f\"{param_name}: {best_parameters[param_name]}\")\n",
    "\n",
    "training_preds = grid_xgb.predict(X_train)\n",
    "test_preds = grid_xgb.predict(X_test)\n",
    "training_accuracy = accuracy_score(y_train, training_preds)\n",
    "test_accuracy = accuracy_score(y_test, test_preds)\n",
    "\n",
    "print('')\n",
    "print('Training Accuracy: {:.4}%'.format(training_accuracy * 100))\n",
    "print('Validation accuracy: {:.4}%'.format(test_accuracy * 100))\n",
    "      \n",
    "eval_model(grid_xgb, X_test, y_test)"
   ]
  },
  {
   "cell_type": "markdown",
   "metadata": {},
   "source": [
    "## Model Deployment"
   ]
  },
  {
   "cell_type": "markdown",
   "metadata": {},
   "source": [
    "For now we will settle on the 2nd logistic model, that had a fair balance of all the metrics, the highest recall without compromising on the other metrics."
   ]
  },
  {
   "cell_type": "markdown",
   "metadata": {},
   "source": [
    "* model.pkl (a pickled model file)\n",
    "* main.py (a Python file defining the function)\n",
    "* requirements.txt (a requirements file)"
   ]
  },
  {
   "cell_type": "code",
   "execution_count": null,
   "metadata": {},
   "outputs": [],
   "source": [
    "# Create a copy of the dataframe\n",
    "df_copy = df.copy()\n",
    "\n",
    "# Split the target and predictor variables\n",
    "X2 = df_copy.drop(['Loan_default'], axis=1)\n",
    "y2 = df_copy['Loan_default']"
   ]
  },
  {
   "cell_type": "code",
   "execution_count": null,
   "metadata": {},
   "outputs": [],
   "source": [
    "# Perfrom a train test split\n",
    "X_train2 ,X_test2 ,y_train2 ,y_test2 = train_test_split(X, y, test_size=0.25, random_state=42)\n",
    "\n",
    "print('X_train:', X_train2.shape, '\\n X_test:',X_test2.shape)"
   ]
  },
  {
   "cell_type": "code",
   "execution_count": null,
   "metadata": {},
   "outputs": [],
   "source": [
    "# Data Preprocessing pipeline\n",
    "# Numerical pipeline\n",
    "numerical_pipeline = Pipeline(steps=[\n",
    "    ('ss', MinMaxScaler())\n",
    "])\n",
    "\n",
    "# Categorical pipeline\n",
    "categorical_pipeline = Pipeline(steps=[\n",
    "    ('ohe', OneHotEncoder(drop='first',\n",
    "                         sparse=False))\n",
    "])\n",
    "\n",
    "# Combined preprocessed data\n",
    "trans = ColumnTransformer(transformers=[\n",
    "    ('numerical', numerical_pipeline, nums),\n",
    "    ('categorical', categorical_pipeline, cats)\n",
    "], remainder=\"passthrough\")\n",
    "\n",
    "# Logistic model\n",
    "log_model2 = LogisticRegression(fit_intercept=True, \n",
    "                               C=1e12, \n",
    "                               solver='liblinear',\n",
    "                               max_iter=300, \n",
    "                               penalty='l1',\n",
    "                               class_weight=\"balanced\")\n",
    "# Pipe the model\n",
    "log_pipe = Pipeline(steps=[\n",
    "        (\"col_trans\", trans),\n",
    "        (\"log_model2\", log_model2)])\n",
    "\n",
    "# Fit the training data\n",
    "log_pipe.fit(X_train2, y_train2)\n",
    "    \n",
    "# Score the train and test data for model performance accuracy\n",
    "print(f'Training Accuracy: {log_pipe.score(X_train2, y_train2)}')\n",
    "print(f'Testing Accuracy : {log_pipe.score(X_test2, y_test2)}')\n",
    "\n",
    "# Evaluate the model\n",
    "eval_model(log_pipe, X_test2, y_test2)"
   ]
  },
  {
   "cell_type": "code",
   "execution_count": null,
   "metadata": {},
   "outputs": [],
   "source": [
    "# Assuming you have 'X_train' as your feature matrix and 'nums' and 'cats' as your lists of numerical and categorical columns\n",
    "\n",
    "# Fit and transform the data using the preprocessing_pipe\n",
    "X_preprocessed = preprocessing_pipe.fit_transform(X_train2)\n",
    "\n",
    "# Get the column names from the transformed data\n",
    "transformed_feature_names = []\n",
    "\n",
    "# Get numerical feature names from the standard scaler\n",
    "numerical_feature_names = X_train2[nums].columns\n",
    "transformed_feature_names.extend(numerical_feature_names)\n",
    "\n",
    "# Get one-hot encoded categorical feature names from the OneHotEncoder\n",
    "categorical_encoder = preprocessing_pipe.named_steps['col_trans'].transformers_[1][1].named_steps['ohe']\n",
    "categorical_feature_names = categorical_encoder.get_feature_names_out(X_train2[cats].columns)\n",
    "transformed_feature_names.extend(categorical_feature_names)\n",
    "\n",
    "# If you have remaining columns that were not transformed, add them to the list\n",
    "remaining_columns = [col for col in X_train2.columns if col not in numerical_feature_names and col not in categorical_feature_names]\n",
    "transformed_feature_names.extend(remaining_columns)\n",
    "\n",
    "# Print the preprocessed column names\n",
    "print(transformed_feature_names)"
   ]
  },
  {
   "cell_type": "code",
   "execution_count": null,
   "metadata": {},
   "outputs": [],
   "source": [
    "# Verify the prediction with an example\n",
    "print(X_train2.iloc[0])\n",
    "print(y_train2.iloc[0])"
   ]
  },
  {
   "cell_type": "code",
   "execution_count": null,
   "metadata": {},
   "outputs": [],
   "source": [
    "# Our model is accurate in this instance\n",
    "log_pipe.predict(X_train2)[0]"
   ]
  },
  {
   "cell_type": "code",
   "execution_count": null,
   "metadata": {},
   "outputs": [],
   "source": [
    "# Requirements.txt\n",
    "import sklearn\n",
    "import joblib\n",
    "print(sklearn.__version__)\n",
    "print(joblib.__version__)"
   ]
  },
  {
   "cell_type": "code",
   "execution_count": null,
   "metadata": {},
   "outputs": [],
   "source": [
    "with open(\"model.pkl\", \"wb\") as f:\n",
    "    joblib.dump(log_pipe, f)"
   ]
  },
  {
   "cell_type": "code",
   "execution_count": null,
   "metadata": {},
   "outputs": [],
   "source": [
    "# Assuming 'log_reg' is your fitted Logistic Regression model\n",
    "class CallableModel:\n",
    "    def __init__(self, model):\n",
    "        self.model = model\n",
    "\n",
    "    def __call__(self, X):\n",
    "        return self.model.predict_proba(X)\n",
    "\n",
    "# Wrap your logistic regression model\n",
    "callable_log_reg = CallableModel(log_reg)\n",
    "\n",
    "# Create the SHAP explainer\n",
    "explainer = shap.KernelExplainer(callable_log_reg, X_train)  # Use X_train for background data\n",
    "\n",
    "# Calculate SHAP values\n",
    "shap_values = explainer.shap_values(X_test)\n",
    "\n",
    "# Visualize SHAP values for the first instance in the test set\n",
    "shap.summary_plot(shap_values, X_test)"
   ]
  },
  {
   "cell_type": "markdown",
   "metadata": {},
   "source": [
    "### Model function"
   ]
  },
  {
   "cell_type": "code",
   "execution_count": null,
   "metadata": {},
   "outputs": [],
   "source": [
    "import numpy as np\n",
    "\n",
    "def predict_credit_limit_and_score(user_data):\n",
    "    \"\"\"\n",
    "    Predicts both the credit limit (regression) and the credit score category (classification).\n",
    "    \n",
    "    Parameters:\n",
    "    - user_data: A dictionary or Pandas Series containing the user's input data for the prediction.\n",
    "    \n",
    "    Returns:\n",
    "    - result: A dictionary with predicted credit limit and credit score category.\n",
    "    \"\"\"\n",
    "    \n",
    "    # 1. Preprocess the input data as required by your models\n",
    "    # Assume you have a function `preprocess_input` that applies necessary transformations\n",
    "    processed_data = preprocess_input(user_data)\n",
    "    \n",
    "    # 2. Predict the credit limit using the trained regressor model\n",
    "    credit_limit = credit_limit_model.predict(processed_data)\n",
    "    \n",
    "    # 3. Predict the credit score category using the trained classifier model\n",
    "    credit_score_class = credit_score_model.predict(processed_data)\n",
    "    \n",
    "    # 4. Map the numeric class prediction to a credit score category label\n",
    "    score_mapping = {0: 'Very Low', 1: 'Low', 2: 'Medium', 3: 'High', 4: 'Very High'}\n",
    "    credit_score_category = score_mapping.get(credit_score_class[0], 'Unknown')\n",
    "    \n",
    "    # 5. Return both the credit limit and the score category as the result\n",
    "    result = {\n",
    "        'credit_limit': credit_limit[0],  # Assuming the model returns an array\n",
    "        'credit_score_category': credit_score_category\n",
    "    }\n",
    "    \n",
    "    return result\n"
   ]
  },
  {
   "cell_type": "code",
   "execution_count": null,
   "metadata": {},
   "outputs": [],
   "source": [
    "data_1 = [200000, 150000, 75, 6,\n",
    "       5, 0, 50000,\n",
    "       120000, 0,\n",
    "       0, 18,\n",
    "       0, 35, 7,\n",
    "       0, 1,\n",
    "       1, 0, 0,\n",
    "       0, 1,\n",
    "       1, 0,\n",
    "       0, 0,\n",
    "       0,0,\n",
    "       1,1,0,\n",
    "       0,0,0,\n",
    "       0,0,0,\n",
    "       1,0,0,0,0,\n",
    "       0,0,0,0,0,\n",
    "       0,0,0,0,\n",
    "       0,0,0,0,\n",
    "       0,0,1,1]\n",
    "# List of values for prediction\n",
    "data_1 = [800000, 750000, 50, 2, 5, 5, 50000, 150000, 0, 0, 18, 0, 45, 7, 0, 1, 1, 0, 0, 0,\n",
    "          0, 1, 1, 0, 0, 0, 0, 0, 1, 1, 0, 0, 0, 0, 0, 0, 0, 0, 1, 0, 0, 0, 0, 0, 0, 0,\n",
    "          0, 0, 0, 0, 0, 0, 0, 0, 0, 0, 0, 0]\n",
    "\n",
    "# Create a DataFrame using the provided values\n",
    "data_1_df = pd.DataFrame([data_1], columns=X_train.columns)\n",
    "\n",
    "# Make the prediction using the trained RFC model\n",
    "prediction = rfc.predict(data_1_df)\n",
    "\n",
    "print(\"Predicted class:\", prediction)"
   ]
  },
  {
   "cell_type": "code",
   "execution_count": null,
   "metadata": {},
   "outputs": [],
   "source": [
    "# Convert the Pandas Series to a NumPy array and then reshape it\n",
    "data_point = X_test.iloc[0].values.reshape(1, -1)\n",
    "\n",
    "# Make the prediction\n",
    "prediction = rfc.predict(data_point)\n",
    "\n",
    "print(\"Predicted class:\", prediction)"
   ]
  },
  {
   "cell_type": "markdown",
   "metadata": {},
   "source": [
    "## Conclusion"
   ]
  },
  {
   "cell_type": "code",
   "execution_count": null,
   "metadata": {},
   "outputs": [],
   "source": []
  }
 ],
 "metadata": {
  "kernelspec": {
   "display_name": "Python 3 (ipykernel)",
   "language": "python",
   "name": "python3"
  },
  "language_info": {
   "codemirror_mode": {
    "name": "ipython",
    "version": 3
   },
   "file_extension": ".py",
   "mimetype": "text/x-python",
   "name": "python",
   "nbconvert_exporter": "python",
   "pygments_lexer": "ipython3",
   "version": "3.11.9"
  }
 },
 "nbformat": 4,
 "nbformat_minor": 4
}
