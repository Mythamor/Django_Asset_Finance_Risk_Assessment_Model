{
 "cells": [
  {
   "cell_type": "markdown",
   "metadata": {},
   "source": [
    "<div align=\"center\">\n",
    "    \n",
    "# Asset Finance Risk Assessment Model\n",
    "## Feature Engineering and Data Preprocessing\n",
    "\n",
    "> Author: [Mithamo Beth](https://github.com/Mythamor) \n",
    "</div>"
   ]
  },
  {
   "cell_type": "markdown",
   "metadata": {},
   "source": [
    "## Feature Engineering"
   ]
  },
  {
   "cell_type": "code",
   "execution_count": 1,
   "metadata": {},
   "outputs": [],
   "source": [
    "# Import the relevant libraries\n",
    "import pandas as pd\n",
    "import numpy as np\n",
    "import duckdb\n",
    "import sweetviz as sv\n",
    "\n",
    "# Visualization libraries\n",
    "import matplotlib.pyplot as plt\n",
    "%matplotlib inline\n",
    "import seaborn as sns\n",
    "\n",
    "# Set the layout\n",
    "sns.set_style(\"darkgrid\");\n",
    "\n",
    "# Set the color palette\n",
    "sns.set_palette(\"Set2\");\n",
    "\n",
    "# Set the default figsize\n",
    "plt.rcParams[\"figure.figsize\"] = (6, 4);\n",
    "\n",
    "# Ignore warnings\n",
    "import warnings\n",
    "warnings.filterwarnings('ignore')"
   ]
  },
  {
   "cell_type": "code",
   "execution_count": 2,
   "metadata": {},
   "outputs": [
    {
     "data": {
      "text/html": [
       "<div>\n",
       "<style scoped>\n",
       "    .dataframe tbody tr th:only-of-type {\n",
       "        vertical-align: middle;\n",
       "    }\n",
       "\n",
       "    .dataframe tbody tr th {\n",
       "        vertical-align: top;\n",
       "    }\n",
       "\n",
       "    .dataframe thead th {\n",
       "        text-align: right;\n",
       "    }\n",
       "</style>\n",
       "<table border=\"1\" class=\"dataframe\">\n",
       "  <thead>\n",
       "    <tr style=\"text-align: right;\">\n",
       "      <th></th>\n",
       "      <th>UNIQUEID</th>\n",
       "      <th>Disbursed_amount</th>\n",
       "      <th>Asset_cost</th>\n",
       "      <th>Ltv</th>\n",
       "      <th>Manufacturer_id</th>\n",
       "      <th>Date_of_birth</th>\n",
       "      <th>Employment_type</th>\n",
       "      <th>Disbursal_date</th>\n",
       "      <th>State_id</th>\n",
       "      <th>Aadhar_flag</th>\n",
       "      <th>Voterid_flag</th>\n",
       "      <th>Perform_cns_score</th>\n",
       "      <th>Perform_cns_score_description</th>\n",
       "      <th>Pri_no_of_accts</th>\n",
       "      <th>Pri_active_accts</th>\n",
       "      <th>New_accts_in_last_six_months</th>\n",
       "      <th>No_of_inquiries</th>\n",
       "      <th>Loan_default</th>\n",
       "      <th>Average_loan_tenure</th>\n",
       "      <th>Credit_history_length_months</th>\n",
       "    </tr>\n",
       "  </thead>\n",
       "  <tbody>\n",
       "    <tr>\n",
       "      <th>0</th>\n",
       "      <td>420825</td>\n",
       "      <td>50578</td>\n",
       "      <td>58400</td>\n",
       "      <td>89.55</td>\n",
       "      <td>45</td>\n",
       "      <td>1984-01-01</td>\n",
       "      <td>Salaried</td>\n",
       "      <td>2018-08-03</td>\n",
       "      <td>6</td>\n",
       "      <td>1</td>\n",
       "      <td>0</td>\n",
       "      <td>0</td>\n",
       "      <td>No Bureau History Available</td>\n",
       "      <td>0</td>\n",
       "      <td>0</td>\n",
       "      <td>0</td>\n",
       "      <td>0</td>\n",
       "      <td>0</td>\n",
       "      <td>0</td>\n",
       "      <td>0</td>\n",
       "    </tr>\n",
       "    <tr>\n",
       "      <th>1</th>\n",
       "      <td>537409</td>\n",
       "      <td>47145</td>\n",
       "      <td>65550</td>\n",
       "      <td>73.23</td>\n",
       "      <td>45</td>\n",
       "      <td>1985-07-31</td>\n",
       "      <td>Self employed</td>\n",
       "      <td>2018-09-26</td>\n",
       "      <td>6</td>\n",
       "      <td>1</td>\n",
       "      <td>0</td>\n",
       "      <td>598</td>\n",
       "      <td>I-Medium Risk</td>\n",
       "      <td>1</td>\n",
       "      <td>1</td>\n",
       "      <td>0</td>\n",
       "      <td>0</td>\n",
       "      <td>1</td>\n",
       "      <td>23</td>\n",
       "      <td>23</td>\n",
       "    </tr>\n",
       "    <tr>\n",
       "      <th>2</th>\n",
       "      <td>417566</td>\n",
       "      <td>53278</td>\n",
       "      <td>61360</td>\n",
       "      <td>89.63</td>\n",
       "      <td>45</td>\n",
       "      <td>1985-08-24</td>\n",
       "      <td>Self employed</td>\n",
       "      <td>2018-08-01</td>\n",
       "      <td>6</td>\n",
       "      <td>1</td>\n",
       "      <td>0</td>\n",
       "      <td>0</td>\n",
       "      <td>No Bureau History Available</td>\n",
       "      <td>0</td>\n",
       "      <td>0</td>\n",
       "      <td>0</td>\n",
       "      <td>0</td>\n",
       "      <td>0</td>\n",
       "      <td>0</td>\n",
       "      <td>0</td>\n",
       "    </tr>\n",
       "    <tr>\n",
       "      <th>3</th>\n",
       "      <td>624493</td>\n",
       "      <td>57513</td>\n",
       "      <td>66113</td>\n",
       "      <td>88.48</td>\n",
       "      <td>45</td>\n",
       "      <td>1993-12-30</td>\n",
       "      <td>Self employed</td>\n",
       "      <td>2018-10-26</td>\n",
       "      <td>6</td>\n",
       "      <td>1</td>\n",
       "      <td>0</td>\n",
       "      <td>305</td>\n",
       "      <td>L-Very High Risk</td>\n",
       "      <td>3</td>\n",
       "      <td>0</td>\n",
       "      <td>0</td>\n",
       "      <td>1</td>\n",
       "      <td>1</td>\n",
       "      <td>8</td>\n",
       "      <td>15</td>\n",
       "    </tr>\n",
       "    <tr>\n",
       "      <th>4</th>\n",
       "      <td>539055</td>\n",
       "      <td>52378</td>\n",
       "      <td>60300</td>\n",
       "      <td>88.39</td>\n",
       "      <td>45</td>\n",
       "      <td>1977-12-09</td>\n",
       "      <td>Self employed</td>\n",
       "      <td>2018-09-26</td>\n",
       "      <td>6</td>\n",
       "      <td>1</td>\n",
       "      <td>0</td>\n",
       "      <td>0</td>\n",
       "      <td>No Bureau History Available</td>\n",
       "      <td>0</td>\n",
       "      <td>0</td>\n",
       "      <td>0</td>\n",
       "      <td>1</td>\n",
       "      <td>1</td>\n",
       "      <td>0</td>\n",
       "      <td>0</td>\n",
       "    </tr>\n",
       "  </tbody>\n",
       "</table>\n",
       "</div>"
      ],
      "text/plain": [
       "   UNIQUEID  Disbursed_amount  Asset_cost    Ltv  Manufacturer_id  \\\n",
       "0    420825             50578       58400  89.55               45   \n",
       "1    537409             47145       65550  73.23               45   \n",
       "2    417566             53278       61360  89.63               45   \n",
       "3    624493             57513       66113  88.48               45   \n",
       "4    539055             52378       60300  88.39               45   \n",
       "\n",
       "  Date_of_birth Employment_type Disbursal_date  State_id  Aadhar_flag  \\\n",
       "0    1984-01-01        Salaried     2018-08-03         6            1   \n",
       "1    1985-07-31   Self employed     2018-09-26         6            1   \n",
       "2    1985-08-24   Self employed     2018-08-01         6            1   \n",
       "3    1993-12-30   Self employed     2018-10-26         6            1   \n",
       "4    1977-12-09   Self employed     2018-09-26         6            1   \n",
       "\n",
       "   Voterid_flag  Perform_cns_score Perform_cns_score_description  \\\n",
       "0             0                  0   No Bureau History Available   \n",
       "1             0                598                 I-Medium Risk   \n",
       "2             0                  0   No Bureau History Available   \n",
       "3             0                305              L-Very High Risk   \n",
       "4             0                  0   No Bureau History Available   \n",
       "\n",
       "   Pri_no_of_accts  Pri_active_accts  New_accts_in_last_six_months  \\\n",
       "0                0                 0                             0   \n",
       "1                1                 1                             0   \n",
       "2                0                 0                             0   \n",
       "3                3                 0                             0   \n",
       "4                0                 0                             0   \n",
       "\n",
       "  No_of_inquiries  Loan_default  Average_loan_tenure  \\\n",
       "0               0             0                    0   \n",
       "1               0             1                   23   \n",
       "2               0             0                    0   \n",
       "3               1             1                    8   \n",
       "4               1             1                    0   \n",
       "\n",
       "   Credit_history_length_months  \n",
       "0                             0  \n",
       "1                            23  \n",
       "2                             0  \n",
       "3                            15  \n",
       "4                             0  "
      ]
     },
     "execution_count": 2,
     "metadata": {},
     "output_type": "execute_result"
    }
   ],
   "source": [
    "# Load assessment dataframe\n",
    "df = pd.read_csv('../data/assessment.csv')\n",
    "df.head()"
   ]
  },
  {
   "cell_type": "code",
   "execution_count": 3,
   "metadata": {},
   "outputs": [],
   "source": [
    "# Calculate the borrowers age at the time of disbursal\n",
    "# Step 1: Convert to datetime format\n",
    "df['Disbursal_date'] = pd.to_datetime(df['Disbursal_date'], format='%Y-%m-%d')\n",
    "df['Date_of_birth'] = pd.to_datetime(df['Date_of_birth'], format='%Y-%m-%d')\n",
    "\n",
    "# Step 2: Calculate age at the time of disbursal in days\n",
    "df['Age_in_days'] = (df['Disbursal_date'] - df['Date_of_birth']).dt.days\n",
    "\n",
    "# Step 3: Convert days to years\n",
    "df['Age'] = df['Age_in_days'] // 365  # Use integer division to get complete years\n",
    "\n",
    "# Optional: Drop the 'Age_in_days' column if you only need the final age\n",
    "df.drop(columns=['Age_in_days', 'Disbursal_date', 'Date_of_birth'], inplace=True)"
   ]
  },
  {
   "cell_type": "code",
   "execution_count": 4,
   "metadata": {},
   "outputs": [
    {
     "name": "stdout",
     "output_type": "stream",
     "text": [
      "count    233154.000000\n",
      "mean         33.954142\n",
      "std           9.821186\n",
      "min          18.000000\n",
      "25%          26.000000\n",
      "50%          32.000000\n",
      "75%          41.000000\n",
      "max          69.000000\n",
      "Name: Age, dtype: float64\n",
      "\n",
      "Age of youngest borrower: 18\n",
      "Age of oldest borrower: 69\n",
      "Median Age: 32.0\n"
     ]
    }
   ],
   "source": [
    "# Investigate the age statistics \n",
    "print(df.Age.describe()) \n",
    "print('\\nAge of youngest borrower:',df.Age.min())\n",
    "print('Age of oldest borrower:',df.Age.max())\n",
    "print('Median Age:',df.Age.median())"
   ]
  },
  {
   "cell_type": "markdown",
   "metadata": {},
   "source": [
    "The distribution is right skewed"
   ]
  },
  {
   "cell_type": "code",
   "execution_count": 5,
   "metadata": {},
   "outputs": [
    {
     "data": {
      "image/png": "[encoded data removed]",
      "text/plain": [
       "<Figure size 600x400 with 1 Axes>"
      ]
     },
     "metadata": {},
     "output_type": "display_data"
    }
   ],
   "source": [
    "# Plot a bxplot to check the distribution and confirm the right tail\n",
    "sns.boxplot(x='Age', y='Loan_default', data=df, orient=\"h\")\n",
    "plt.show()"
   ]
  },
  {
   "cell_type": "code",
   "execution_count": 6,
   "metadata": {},
   "outputs": [
    {
     "name": "stdout",
     "output_type": "stream",
     "text": [
      "Age\n",
      "20    0.253623\n",
      "21    0.251974\n",
      "18    0.250000\n",
      "22    0.244091\n",
      "23    0.235699\n",
      "19    0.235023\n",
      "26    0.234047\n",
      "24    0.231651\n",
      "64    0.230769\n",
      "25    0.229053\n",
      "Name: Loan_default, dtype: float64\n",
      "\n",
      "Age\n",
      "69    0.000000\n",
      "63    0.112782\n",
      "62    0.126623\n",
      "60    0.166667\n",
      "59    0.172680\n",
      "54    0.179338\n",
      "44    0.179699\n",
      "61    0.180952\n",
      "57    0.183388\n",
      "52    0.188621\n",
      "Name: Loan_default, dtype: float64\n"
     ]
    }
   ],
   "source": [
    "# Age summary grouped by loan default\n",
    "print(df.groupby('Age')['Loan_default'].mean().sort_values(ascending=False).head(10))\n",
    "print()\n",
    "print(df.groupby('Age')['Loan_default'].mean().sort_values(ascending=True).head(10))"
   ]
  },
  {
   "cell_type": "markdown",
   "metadata": {},
   "source": [
    "Younger borrowers have a much higher default rate compared to the older borrowers. Age therefore plays an important role when determining loan disbursement. Borrowers between the ages of 17-25 are higher risk than borrowers over 55 years."
   ]
  },
  {
   "cell_type": "markdown",
   "metadata": {},
   "source": [
    "## Binning continuous data"
   ]
  },
  {
   "cell_type": "code",
   "execution_count": 7,
   "metadata": {},
   "outputs": [],
   "source": [
    "def bin_column(df, column_name, bin_width, min_value, max_value):\n",
    "    \"\"\"\n",
    "    Bins a column into defined ranges and creates labels dynamically.\n",
    "\n",
    "    Parameters:\n",
    "    - df (pd.DataFrame): DataFrame containing the column to be binned.\n",
    "    - column_name (str): The column name to bin.\n",
    "    - bin_width (int): The width of each bin.\n",
    "    - min_value (int): The minimum value for binning.\n",
    "    - max_value (int): The maximum value for binning.\n",
    "\n",
    "    Returns:\n",
    "    - pd.Series: Binned data with dynamically generated labels.\n",
    "    \"\"\"\n",
    "    bins = np.arange(min_value, max_value + bin_width, bin_width) \n",
    "    labels = [f\"{bins[i]}-{bins[i+1]-1}\" for i in range(len(bins)-1)]\n",
    "    \n",
    "    # Apply binning\n",
    "    return pd.cut(df[column_name], bins=bins, labels=labels, right=False)\n",
    "\n",
    "\n"
   ]
  },
  {
   "cell_type": "code",
   "execution_count": 8,
   "metadata": {},
   "outputs": [
    {
     "data": {
      "text/plain": [
       "Disbursed_bracket\n",
       "52000-61999      0.368008\n",
       "42000-51999      0.290726\n",
       "62000-71999      0.139032\n",
       "32000-41999      0.101717\n",
       "72000-81999      0.043042\n",
       "22000-31999      0.027137\n",
       "82000-91999      0.013489\n",
       "92000-101999     0.010260\n",
       "12000-21999      0.003153\n",
       "112000-121999    0.001377\n",
       "102000-111999    0.000987\n",
       "122000-131999    0.000493\n",
       "132000-141999    0.000197\n",
       "142000-151999    0.000159\n",
       "152000-161999    0.000103\n",
       "162000-171999    0.000060\n",
       "172000-181999    0.000034\n",
       "182000-191999    0.000021\n",
       "192000-201999    0.000004\n",
       "Name: proportion, dtype: float64"
      ]
     },
     "execution_count": 8,
     "metadata": {},
     "output_type": "execute_result"
    }
   ],
   "source": [
    "# Example usage for a specific column like Disbursed_amount\n",
    "df['Disbursed_bracket'] = bin_column(df, 'Disbursed_amount', bin_width=10000, min_value=12000, max_value=200000)\n",
    "df['Disbursed_bracket'].value_counts(normalize=True)"
   ]
  },
  {
   "cell_type": "code",
   "execution_count": 9,
   "metadata": {},
   "outputs": [
    {
     "data": {
      "text/plain": [
       "Asset_bracket\n",
       "67000-76999      0.393091\n",
       "57000-66999      0.271968\n",
       "77000-86999      0.124813\n",
       "87000-96999      0.057829\n",
       "97000-106999     0.053607\n",
       "47000-56999      0.029519\n",
       "107000-116999    0.026902\n",
       "117000-126999    0.010932\n",
       "37000-46999      0.009744\n",
       "127000-136999    0.005239\n",
       "157000-166999    0.004072\n",
       "137000-146999    0.003535\n",
       "147000-156999    0.003475\n",
       "167000-176999    0.003381\n",
       "177000-186999    0.001090\n",
       "187000-196999    0.000506\n",
       "197000-206999    0.000296\n",
       "Name: proportion, dtype: float64"
      ]
     },
     "execution_count": 9,
     "metadata": {},
     "output_type": "execute_result"
    }
   ],
   "source": [
    "# Example usage for a specific column like Disbursed_amount\n",
    "df['Asset_bracket'] = bin_column(df, 'Asset_cost', bin_width=10000, min_value=37000, max_value=200000)\n",
    "df['Asset_bracket'].value_counts(normalize=True)"
   ]
  },
  {
   "cell_type": "code",
   "execution_count": 10,
   "metadata": {},
   "outputs": [
    {
     "data": {
      "text/plain": [
       "Ltv_bracket\n",
       "70-84    0.546647\n",
       "55-69    0.213447\n",
       "85-99    0.173002\n",
       "40-54    0.055749\n",
       "25-39    0.010401\n",
       "10-24    0.000755\n",
       "Name: proportion, dtype: float64"
      ]
     },
     "execution_count": 10,
     "metadata": {},
     "output_type": "execute_result"
    }
   ],
   "source": [
    "# Ltv binning\n",
    "df['Ltv_bracket'] = bin_column(df, 'Ltv', bin_width=15, min_value=10, max_value=95)\n",
    "df['Ltv_bracket'].value_counts(normalize=True)"
   ]
  },
  {
   "cell_type": "code",
   "execution_count": 11,
   "metadata": {},
   "outputs": [
    {
     "data": {
      "text/plain": [
       "Cns_score_bracket\n",
       "0-149      0.556649\n",
       "600-749    0.215849\n",
       "750-899    0.110288\n",
       "300-449    0.062542\n",
       "450-599    0.054672\n",
       "150-299    0.000000\n",
       "Name: proportion, dtype: float64"
      ]
     },
     "execution_count": 11,
     "metadata": {},
     "output_type": "execute_result"
    }
   ],
   "source": [
    "# Binning Cns score\n",
    "df['Cns_score_bracket'] = bin_column(df, 'Perform_cns_score', bin_width=150, min_value=0, max_value=900)\n",
    "df['Cns_score_bracket'].value_counts(normalize=True)"
   ]
  },
  {
   "cell_type": "code",
   "execution_count": 12,
   "metadata": {},
   "outputs": [
    {
     "data": {
      "text/plain": [
       "Age_bracket\n",
       "28-37    0.345008\n",
       "18-27    0.319887\n",
       "38-47    0.221159\n",
       "48-57    0.099171\n",
       "58-67    0.014771\n",
       "68-77    0.000004\n",
       "Name: proportion, dtype: float64"
      ]
     },
     "execution_count": 12,
     "metadata": {},
     "output_type": "execute_result"
    }
   ],
   "source": [
    "# Binning age\n",
    "df['Age_bracket'] = bin_column(df, 'Age', bin_width=10, min_value=18, max_value=69)\n",
    "df['Age_bracket'].value_counts(normalize=True)"
   ]
  },
  {
   "cell_type": "code",
   "execution_count": 13,
   "metadata": {},
   "outputs": [
    {
     "data": {
      "text/plain": [
       "Credit_bracket\n",
       "0-2      0.610272\n",
       "6-8      0.055773\n",
       "24-26    0.051474\n",
       "12-14    0.042764\n",
       "9-11     0.036714\n",
       "3-5      0.030827\n",
       "15-17    0.029869\n",
       "21-23    0.029745\n",
       "18-20    0.029710\n",
       "36-38    0.022092\n",
       "27-29    0.020652\n",
       "30-32    0.020434\n",
       "33-35    0.019675\n",
       "Name: proportion, dtype: float64"
      ]
     },
     "execution_count": 13,
     "metadata": {},
     "output_type": "execute_result"
    }
   ],
   "source": [
    "# Binning credit history length\n",
    "df['Credit_history_length_months'] = (df['Credit_history_length_months'] ).round(2)\n",
    "df['Credit_bracket'] = bin_column(df, 'Credit_history_length_months', bin_width=3, min_value=0, max_value=39)\n",
    "df['Credit_bracket'].value_counts(normalize=True)"
   ]
  },
  {
   "cell_type": "code",
   "execution_count": 14,
   "metadata": {},
   "outputs": [
    {
     "data": {
      "text/plain": [
       "Loan_tenure_bracket\n",
       "0-2      0.943063\n",
       "3-5      0.048273\n",
       "6-8      0.006481\n",
       "9-11     0.001634\n",
       "12-14    0.000459\n",
       "15-17    0.000073\n",
       "30-32    0.000004\n",
       "24-26    0.000004\n",
       "21-23    0.000004\n",
       "18-20    0.000004\n",
       "27-29    0.000000\n",
       "33-35    0.000000\n",
       "36-38    0.000000\n",
       "39-41    0.000000\n",
       "42-44    0.000000\n",
       "45-47    0.000000\n",
       "48-50    0.000000\n",
       "Name: proportion, dtype: float64"
      ]
     },
     "execution_count": 14,
     "metadata": {},
     "output_type": "execute_result"
    }
   ],
   "source": [
    "# Example usage for a specific column like Disbursed_amount\n",
    "df['Average_loan_tenure'] = (df['Average_loan_tenure'] / 12).round(2)\n",
    "df['Loan_tenure_bracket'] = bin_column(df, 'Average_loan_tenure', bin_width=3, min_value=0, max_value=50)\n",
    "df['Loan_tenure_bracket'].value_counts(normalize=True)"
   ]
  },
  {
   "cell_type": "markdown",
   "metadata": {},
   "source": [
    "## Initial feature selection"
   ]
  },
  {
   "cell_type": "code",
   "execution_count": 15,
   "metadata": {},
   "outputs": [
    {
     "data": {
      "text/plain": [
       "(233154, 18)"
      ]
     },
     "execution_count": 15,
     "metadata": {},
     "output_type": "execute_result"
    }
   ],
   "source": [
    "# Select a few features to train on the dataset\n",
    "df_1 = df[['Disbursed_amount', 'Asset_cost', 'Ltv', 'Manufacturer_id',\n",
    "       'Employment_type', 'State_id', 'Aadhar_flag', 'Voterid_flag',\n",
    "       'Perform_cns_score', 'Pri_no_of_accts', 'Pri_active_accts',\n",
    "       'New_accts_in_last_six_months', 'No_of_inquiries', 'Loan_default',\n",
    "       'Average_loan_tenure', 'Credit_history_length_months',\n",
    "       'Perform_cns_score_description', 'Age'\n",
    "          ]]\n",
    "df_1.shape"
   ]
  },
  {
   "cell_type": "markdown",
   "metadata": {},
   "source": [
    "## Data Preprocessing"
   ]
  },
  {
   "cell_type": "code",
   "execution_count": 16,
   "metadata": {},
   "outputs": [],
   "source": [
    "# Import preprocessing libraries\n",
    "from sklearn.model_selection import train_test_split, GridSearchCV,cross_val_score, RandomizedSearchCV\n",
    "from sklearn.preprocessing import MinMaxScaler, OneHotEncoder, StandardScaler\n",
    "from sklearn.impute import SimpleImputer"
   ]
  },
  {
   "cell_type": "code",
   "execution_count": 26,
   "metadata": {},
   "outputs": [
    {
     "name": "stdout",
     "output_type": "stream",
     "text": [
      "X_train: (174865, 17) \n",
      " X_test: (58289, 17)\n",
      "y_train: (174865,) \n",
      " y_test: (58289,)\n"
     ]
    }
   ],
   "source": [
    "# Split the target and predictor variables\n",
    "X = df_1.drop(['Loan_default'], axis=1)\n",
    "y = df_1['Loan_default']\n",
    "\n",
    "# Perfrom a train test split\n",
    "X_train,X_test,y_train,y_test = train_test_split(X, y, test_size=0.25, random_state=42)\n",
    "\n",
    "print('X_train:', X_train.shape, '\\n X_test:',X_test.shape)\n",
    "print('y_train:', y_train.shape, '\\n y_test:',y_test.shape)"
   ]
  },
  {
   "cell_type": "code",
   "execution_count": 27,
   "metadata": {},
   "outputs": [
    {
     "data": {
      "text/plain": [
       "179568    0\n",
       "5035      0\n",
       "31099     0\n",
       "47710     0\n",
       "5813      0\n",
       "Name: Loan_default, dtype: int64"
      ]
     },
     "execution_count": 27,
     "metadata": {},
     "output_type": "execute_result"
    }
   ],
   "source": [
    "y_train.head()"
   ]
  },
  {
   "cell_type": "code",
   "execution_count": 28,
   "metadata": {},
   "outputs": [],
   "source": [
    "# Export dataframe with key features\n",
    "df_1.to_csv('../data/new_df.csv', index=True)"
   ]
  },
  {
   "cell_type": "code",
   "execution_count": 29,
   "metadata": {},
   "outputs": [
    {
     "name": "stdout",
     "output_type": "stream",
     "text": [
      "(233154, 10)\n",
      "\n",
      "Index(['Disbursed_amount', 'Asset_cost', 'Ltv', 'Perform_cns_score',\n",
      "       'Pri_no_of_accts', 'Pri_active_accts', 'New_accts_in_last_six_months',\n",
      "       'Average_loan_tenure', 'Credit_history_length_months', 'Age'],\n",
      "      dtype='object')\n"
     ]
    },
    {
     "data": {
      "text/html": [
       "<div>\n",
       "<style scoped>\n",
       "    .dataframe tbody tr th:only-of-type {\n",
       "        vertical-align: middle;\n",
       "    }\n",
       "\n",
       "    .dataframe tbody tr th {\n",
       "        vertical-align: top;\n",
       "    }\n",
       "\n",
       "    .dataframe thead th {\n",
       "        text-align: right;\n",
       "    }\n",
       "</style>\n",
       "<table border=\"1\" class=\"dataframe\">\n",
       "  <thead>\n",
       "    <tr style=\"text-align: right;\">\n",
       "      <th></th>\n",
       "      <th>Disbursed_amount</th>\n",
       "      <th>Asset_cost</th>\n",
       "      <th>Ltv</th>\n",
       "      <th>Perform_cns_score</th>\n",
       "      <th>Pri_no_of_accts</th>\n",
       "      <th>Pri_active_accts</th>\n",
       "      <th>New_accts_in_last_six_months</th>\n",
       "      <th>Average_loan_tenure</th>\n",
       "      <th>Credit_history_length_months</th>\n",
       "      <th>Age</th>\n",
       "    </tr>\n",
       "  </thead>\n",
       "  <tbody>\n",
       "    <tr>\n",
       "      <th>0</th>\n",
       "      <td>50578</td>\n",
       "      <td>58400</td>\n",
       "      <td>89.55</td>\n",
       "      <td>0</td>\n",
       "      <td>0</td>\n",
       "      <td>0</td>\n",
       "      <td>0</td>\n",
       "      <td>0.00</td>\n",
       "      <td>0</td>\n",
       "      <td>34</td>\n",
       "    </tr>\n",
       "    <tr>\n",
       "      <th>1</th>\n",
       "      <td>47145</td>\n",
       "      <td>65550</td>\n",
       "      <td>73.23</td>\n",
       "      <td>598</td>\n",
       "      <td>1</td>\n",
       "      <td>1</td>\n",
       "      <td>0</td>\n",
       "      <td>1.92</td>\n",
       "      <td>23</td>\n",
       "      <td>33</td>\n",
       "    </tr>\n",
       "    <tr>\n",
       "      <th>2</th>\n",
       "      <td>53278</td>\n",
       "      <td>61360</td>\n",
       "      <td>89.63</td>\n",
       "      <td>0</td>\n",
       "      <td>0</td>\n",
       "      <td>0</td>\n",
       "      <td>0</td>\n",
       "      <td>0.00</td>\n",
       "      <td>0</td>\n",
       "      <td>32</td>\n",
       "    </tr>\n",
       "    <tr>\n",
       "      <th>3</th>\n",
       "      <td>57513</td>\n",
       "      <td>66113</td>\n",
       "      <td>88.48</td>\n",
       "      <td>305</td>\n",
       "      <td>3</td>\n",
       "      <td>0</td>\n",
       "      <td>0</td>\n",
       "      <td>0.67</td>\n",
       "      <td>15</td>\n",
       "      <td>24</td>\n",
       "    </tr>\n",
       "    <tr>\n",
       "      <th>4</th>\n",
       "      <td>52378</td>\n",
       "      <td>60300</td>\n",
       "      <td>88.39</td>\n",
       "      <td>0</td>\n",
       "      <td>0</td>\n",
       "      <td>0</td>\n",
       "      <td>0</td>\n",
       "      <td>0.00</td>\n",
       "      <td>0</td>\n",
       "      <td>40</td>\n",
       "    </tr>\n",
       "  </tbody>\n",
       "</table>\n",
       "</div>"
      ],
      "text/plain": [
       "   Disbursed_amount  Asset_cost    Ltv  Perform_cns_score  Pri_no_of_accts  \\\n",
       "0             50578       58400  89.55                  0                0   \n",
       "1             47145       65550  73.23                598                1   \n",
       "2             53278       61360  89.63                  0                0   \n",
       "3             57513       66113  88.48                305                3   \n",
       "4             52378       60300  88.39                  0                0   \n",
       "\n",
       "   Pri_active_accts  New_accts_in_last_six_months  Average_loan_tenure  \\\n",
       "0                 0                             0                 0.00   \n",
       "1                 1                             0                 1.92   \n",
       "2                 0                             0                 0.00   \n",
       "3                 0                             0                 0.67   \n",
       "4                 0                             0                 0.00   \n",
       "\n",
       "   Credit_history_length_months  Age  \n",
       "0                             0   34  \n",
       "1                            23   33  \n",
       "2                             0   32  \n",
       "3                            15   24  \n",
       "4                             0   40  "
      ]
     },
     "execution_count": 29,
     "metadata": {},
     "output_type": "execute_result"
    }
   ],
   "source": [
    "# Only select columns of numeric data types\n",
    "numeric_cols = X.select_dtypes(['float64', 'int64'])\n",
    "\n",
    "# Exclude columns containing \"id\" and \"flag\" in their names\n",
    "exclude_cols = X.columns[X.columns.str.contains('id|flag', case=False)]\n",
    "\n",
    "# Drop the selected columns\n",
    "numeric_cols = numeric_cols.drop(exclude_cols, axis=1)\n",
    "\n",
    "print(numeric_cols.shape)\n",
    "print()\n",
    "print(numeric_cols.columns)\n",
    "numeric_cols.head()"
   ]
  },
  {
   "cell_type": "code",
   "execution_count": 30,
   "metadata": {},
   "outputs": [
    {
     "name": "stdout",
     "output_type": "stream",
     "text": [
      "(233154, 7)\n",
      "\n",
      "Index(['Employment_type', 'No_of_inquiries', 'Perform_cns_score_description',\n",
      "       'Manufacturer_id', 'State_id', 'Aadhar_flag', 'Voterid_flag'],\n",
      "      dtype='object')\n"
     ]
    },
    {
     "data": {
      "text/html": [
       "<div>\n",
       "<style scoped>\n",
       "    .dataframe tbody tr th:only-of-type {\n",
       "        vertical-align: middle;\n",
       "    }\n",
       "\n",
       "    .dataframe tbody tr th {\n",
       "        vertical-align: top;\n",
       "    }\n",
       "\n",
       "    .dataframe thead th {\n",
       "        text-align: right;\n",
       "    }\n",
       "</style>\n",
       "<table border=\"1\" class=\"dataframe\">\n",
       "  <thead>\n",
       "    <tr style=\"text-align: right;\">\n",
       "      <th></th>\n",
       "      <th>Employment_type</th>\n",
       "      <th>No_of_inquiries</th>\n",
       "      <th>Perform_cns_score_description</th>\n",
       "      <th>Manufacturer_id</th>\n",
       "      <th>State_id</th>\n",
       "      <th>Aadhar_flag</th>\n",
       "      <th>Voterid_flag</th>\n",
       "    </tr>\n",
       "  </thead>\n",
       "  <tbody>\n",
       "    <tr>\n",
       "      <th>0</th>\n",
       "      <td>Salaried</td>\n",
       "      <td>0</td>\n",
       "      <td>No Bureau History Available</td>\n",
       "      <td>45</td>\n",
       "      <td>6</td>\n",
       "      <td>1</td>\n",
       "      <td>0</td>\n",
       "    </tr>\n",
       "    <tr>\n",
       "      <th>1</th>\n",
       "      <td>Self employed</td>\n",
       "      <td>0</td>\n",
       "      <td>I-Medium Risk</td>\n",
       "      <td>45</td>\n",
       "      <td>6</td>\n",
       "      <td>1</td>\n",
       "      <td>0</td>\n",
       "    </tr>\n",
       "    <tr>\n",
       "      <th>2</th>\n",
       "      <td>Self employed</td>\n",
       "      <td>0</td>\n",
       "      <td>No Bureau History Available</td>\n",
       "      <td>45</td>\n",
       "      <td>6</td>\n",
       "      <td>1</td>\n",
       "      <td>0</td>\n",
       "    </tr>\n",
       "    <tr>\n",
       "      <th>3</th>\n",
       "      <td>Self employed</td>\n",
       "      <td>1</td>\n",
       "      <td>L-Very High Risk</td>\n",
       "      <td>45</td>\n",
       "      <td>6</td>\n",
       "      <td>1</td>\n",
       "      <td>0</td>\n",
       "    </tr>\n",
       "    <tr>\n",
       "      <th>4</th>\n",
       "      <td>Self employed</td>\n",
       "      <td>1</td>\n",
       "      <td>No Bureau History Available</td>\n",
       "      <td>45</td>\n",
       "      <td>6</td>\n",
       "      <td>1</td>\n",
       "      <td>0</td>\n",
       "    </tr>\n",
       "  </tbody>\n",
       "</table>\n",
       "</div>"
      ],
      "text/plain": [
       "  Employment_type No_of_inquiries Perform_cns_score_description  \\\n",
       "0        Salaried               0   No Bureau History Available   \n",
       "1   Self employed               0                 I-Medium Risk   \n",
       "2   Self employed               0   No Bureau History Available   \n",
       "3   Self employed               1              L-Very High Risk   \n",
       "4   Self employed               1   No Bureau History Available   \n",
       "\n",
       "   Manufacturer_id  State_id  Aadhar_flag  Voterid_flag  \n",
       "0               45         6            1             0  \n",
       "1               45         6            1             0  \n",
       "2               45         6            1             0  \n",
       "3               45         6            1             0  \n",
       "4               45         6            1             0  "
      ]
     },
     "execution_count": 30,
     "metadata": {},
     "output_type": "execute_result"
    }
   ],
   "source": [
    "# Select columns of categorical variable\n",
    "category_cols = X.select_dtypes(['object', 'category'])\n",
    "\n",
    "# Include columns containing \"id\" and \"flag\" in their names\n",
    "include_cols = X.columns[X.columns.str.contains('id|flag', case=True)]\n",
    "\n",
    "# Concatenate the selected columns\n",
    "category_cols = pd.concat([category_cols, X.loc[:, include_cols]], axis=1)\n",
    "\n",
    "print(category_cols.shape)\n",
    "print()\n",
    "print(category_cols.columns)\n",
    "category_cols.head()"
   ]
  },
  {
   "cell_type": "code",
   "execution_count": 31,
   "metadata": {},
   "outputs": [
    {
     "name": "stdout",
     "output_type": "stream",
     "text": [
      "The categorical columns are:\n",
      " Index(['Employment_type', 'No_of_inquiries', 'Perform_cns_score_description',\n",
      "       'Manufacturer_id', 'State_id', 'Aadhar_flag', 'Voterid_flag'],\n",
      "      dtype='object')\n",
      "\n",
      "The numerical columns are:\n",
      " Index(['Disbursed_amount', 'Asset_cost', 'Ltv', 'Perform_cns_score',\n",
      "       'Pri_no_of_accts', 'Pri_active_accts', 'New_accts_in_last_six_months',\n",
      "       'Average_loan_tenure', 'Credit_history_length_months', 'Age'],\n",
      "      dtype='object')\n"
     ]
    }
   ],
   "source": [
    "print(f'The categorical columns are:\\n {category_cols.columns}\\n')\n",
    "print(f'The numerical columns are:\\n {numeric_cols.columns}')"
   ]
  },
  {
   "cell_type": "code",
   "execution_count": 32,
   "metadata": {},
   "outputs": [
    {
     "data": {
      "text/plain": [
       "Index(['Disbursed_amount', 'Asset_cost', 'Ltv', 'Manufacturer_id',\n",
       "       'Employment_type', 'State_id', 'Aadhar_flag', 'Voterid_flag',\n",
       "       'Perform_cns_score', 'Pri_no_of_accts', 'Pri_active_accts',\n",
       "       'New_accts_in_last_six_months', 'No_of_inquiries',\n",
       "       'Average_loan_tenure', 'Credit_history_length_months',\n",
       "       'Perform_cns_score_description', 'Age'],\n",
       "      dtype='object')"
      ]
     },
     "execution_count": 32,
     "metadata": {},
     "output_type": "execute_result"
    }
   ],
   "source": [
    "X_test.columns"
   ]
  },
  {
   "cell_type": "markdown",
   "metadata": {},
   "source": [
    "## Ohe Transformation"
   ]
  },
  {
   "cell_type": "code",
   "execution_count": 36,
   "metadata": {},
   "outputs": [
    {
     "name": "stdout",
     "output_type": "stream",
     "text": [
      "(174865, 38)\n",
      "(58289, 38)\n"
     ]
    }
   ],
   "source": [
    "# Ensure these are correct numeric and categorical columns\n",
    "numeric_cols = X_train.select_dtypes(include=['int64', 'float64'])\n",
    "category_cols = X_train.select_dtypes(include=['object', 'category'])\n",
    "\n",
    "# Instatiate the MinMaxScaler\n",
    "scaler = MinMaxScaler()\n",
    "\n",
    "# Instatiate the OneHotEncoding\n",
    "ohe = OneHotEncoder(drop='first', handle_unknown='ignore')\n",
    "\n",
    "#fit_tranform the training data\n",
    "scaled_Xtrain = scaler.fit_transform(numeric_cols)\n",
    "ohe_Xtrain = ohe.fit_transform(category_cols)\n",
    "\n",
    "#transform the test data\n",
    "scaled_Xtest = scaler.transform(X_test[numeric_cols.columns])\n",
    "ohe_Xtest = ohe.transform(X_test[category_cols.columns])\n",
    "\n",
    "# Create new training dataframe\n",
    "trans_X_train = pd.concat([\n",
    "    pd.DataFrame(scaled_Xtrain, columns=numeric_cols.columns, index=X_train.index),\n",
    "    pd.DataFrame(ohe_Xtrain.toarray(), columns=ohe.get_feature_names_out(), index=X_train.index)\n",
    "], axis=1)\n",
    "\n",
    "\n",
    "# Test data\n",
    "\n",
    "# Create new test data dataframe\n",
    "trans_X_test = pd.concat([\n",
    "    pd.DataFrame(scaled_Xtest, columns=numeric_cols.columns, index=X_test.index),\n",
    "    pd.DataFrame(ohe_Xtest.toarray(), columns=ohe.get_feature_names_out(), index=X_test.index)\n",
    "], axis=1)\n",
    "\n",
    "#check the new X_test dataframe\n",
    "print(trans_X_train.shape)\n",
    "print(trans_X_test.shape)"
   ]
  },
  {
   "cell_type": "markdown",
   "metadata": {},
   "source": [
    "## Label encoder Transformation"
   ]
  },
  {
   "cell_type": "code",
   "execution_count": 37,
   "metadata": {},
   "outputs": [
    {
     "name": "stdout",
     "output_type": "stream",
     "text": [
      "(218436, 38)\n",
      "(102109, 38)\n"
     ]
    }
   ],
   "source": [
    "from sklearn.preprocessing import LabelEncoder\n",
    "\n",
    "# Instantiate the LabelEncoder\n",
    "le = LabelEncoder()\n",
    "\n",
    "# Fit and transform the training data for categorical columns\n",
    "for col in category_cols.columns:\n",
    "    X_train[col] = le.fit_transform(X_train[col])\n",
    "\n",
    "# Transform the test data for categorical columns\n",
    "for col in category_cols.columns:\n",
    "    X_test[col] = le.transform(X_test[col])\n",
    "\n",
    "# Scale the numerical columns\n",
    "scaled_Xtrain = scaler.fit_transform(X_train[numeric_cols.columns])\n",
    "scaled_Xtest = scaler.transform(X_test[numeric_cols.columns])\n",
    "\n",
    "# Create new training dataframe\n",
    "le_X_train = pd.concat([\n",
    "    pd.DataFrame(scaled_Xtrain, columns=numeric_cols.columns, index=X_train.index),\n",
    "    X_train[category_cols.columns].reset_index(drop=True)\n",
    "], axis=1)\n",
    "\n",
    "# Create new test data dataframe\n",
    "le_X_test = pd.concat([\n",
    "    pd.DataFrame(scaled_Xtest, columns=numeric_cols.columns, index=X_test.index),\n",
    "    X_test[category_cols.columns].reset_index(drop=True)\n",
    "], axis=1)\n",
    "\n",
    "# Check the new X_train and X_test dataframe\n",
    "print(le_X_train.shape)\n",
    "print(le_X_test.shape)\n"
   ]
  },
  {
   "cell_type": "code",
   "execution_count": 38,
   "metadata": {},
   "outputs": [
    {
     "data": {
      "text/html": [
       "<div>\n",
       "<style scoped>\n",
       "    .dataframe tbody tr th:only-of-type {\n",
       "        vertical-align: middle;\n",
       "    }\n",
       "\n",
       "    .dataframe tbody tr th {\n",
       "        vertical-align: top;\n",
       "    }\n",
       "\n",
       "    .dataframe thead th {\n",
       "        text-align: right;\n",
       "    }\n",
       "</style>\n",
       "<table border=\"1\" class=\"dataframe\">\n",
       "  <thead>\n",
       "    <tr style=\"text-align: right;\">\n",
       "      <th></th>\n",
       "      <th>Disbursed_amount</th>\n",
       "      <th>Asset_cost</th>\n",
       "      <th>Ltv</th>\n",
       "      <th>Manufacturer_id</th>\n",
       "      <th>State_id</th>\n",
       "      <th>Aadhar_flag</th>\n",
       "      <th>Voterid_flag</th>\n",
       "      <th>Perform_cns_score</th>\n",
       "      <th>Pri_no_of_accts</th>\n",
       "      <th>Pri_active_accts</th>\n",
       "      <th>...</th>\n",
       "      <th>Perform_cns_score_description_K-High Risk</th>\n",
       "      <th>Perform_cns_score_description_L-Very High Risk</th>\n",
       "      <th>Perform_cns_score_description_M-Very High Risk</th>\n",
       "      <th>Perform_cns_score_description_No Bureau History Available</th>\n",
       "      <th>Perform_cns_score_description_Not Scored: More than 50 active Accounts found</th>\n",
       "      <th>Perform_cns_score_description_Not Scored: No Activity seen on the customer (Inactive)</th>\n",
       "      <th>Perform_cns_score_description_Not Scored: No Updates available in last 36 months</th>\n",
       "      <th>Perform_cns_score_description_Not Scored: Not Enough Info available on the customer</th>\n",
       "      <th>Perform_cns_score_description_Not Scored: Only a Guarantor</th>\n",
       "      <th>Perform_cns_score_description_Not Scored: Sufficient History Not Available</th>\n",
       "    </tr>\n",
       "  </thead>\n",
       "  <tbody>\n",
       "    <tr>\n",
       "      <th>179568</th>\n",
       "      <td>0.052762</td>\n",
       "      <td>0.024006</td>\n",
       "      <td>0.927362</td>\n",
       "      <td>0.000000</td>\n",
       "      <td>0.095238</td>\n",
       "      <td>1.0</td>\n",
       "      <td>0.0</td>\n",
       "      <td>0.000000</td>\n",
       "      <td>0.000000</td>\n",
       "      <td>0.0</td>\n",
       "      <td>...</td>\n",
       "      <td>0.0</td>\n",
       "      <td>0.0</td>\n",
       "      <td>0.0</td>\n",
       "      <td>1.0</td>\n",
       "      <td>0.0</td>\n",
       "      <td>0.0</td>\n",
       "      <td>0.0</td>\n",
       "      <td>0.0</td>\n",
       "      <td>0.0</td>\n",
       "      <td>0.0</td>\n",
       "    </tr>\n",
       "    <tr>\n",
       "      <th>5035</th>\n",
       "      <td>0.056126</td>\n",
       "      <td>0.041807</td>\n",
       "      <td>0.663804</td>\n",
       "      <td>0.054054</td>\n",
       "      <td>0.095238</td>\n",
       "      <td>0.0</td>\n",
       "      <td>1.0</td>\n",
       "      <td>0.000000</td>\n",
       "      <td>0.000000</td>\n",
       "      <td>0.0</td>\n",
       "      <td>...</td>\n",
       "      <td>0.0</td>\n",
       "      <td>0.0</td>\n",
       "      <td>0.0</td>\n",
       "      <td>1.0</td>\n",
       "      <td>0.0</td>\n",
       "      <td>0.0</td>\n",
       "      <td>0.0</td>\n",
       "      <td>0.0</td>\n",
       "      <td>0.0</td>\n",
       "      <td>0.0</td>\n",
       "    </tr>\n",
       "    <tr>\n",
       "      <th>31099</th>\n",
       "      <td>0.035026</td>\n",
       "      <td>0.015270</td>\n",
       "      <td>0.811043</td>\n",
       "      <td>0.000000</td>\n",
       "      <td>0.238095</td>\n",
       "      <td>0.0</td>\n",
       "      <td>0.0</td>\n",
       "      <td>0.000000</td>\n",
       "      <td>0.000000</td>\n",
       "      <td>0.0</td>\n",
       "      <td>...</td>\n",
       "      <td>0.0</td>\n",
       "      <td>0.0</td>\n",
       "      <td>0.0</td>\n",
       "      <td>1.0</td>\n",
       "      <td>0.0</td>\n",
       "      <td>0.0</td>\n",
       "      <td>0.0</td>\n",
       "      <td>0.0</td>\n",
       "      <td>0.0</td>\n",
       "      <td>0.0</td>\n",
       "    </tr>\n",
       "    <tr>\n",
       "      <th>47710</th>\n",
       "      <td>0.031444</td>\n",
       "      <td>0.019528</td>\n",
       "      <td>0.663313</td>\n",
       "      <td>0.369369</td>\n",
       "      <td>0.380952</td>\n",
       "      <td>1.0</td>\n",
       "      <td>0.0</td>\n",
       "      <td>0.926966</td>\n",
       "      <td>0.006623</td>\n",
       "      <td>0.0</td>\n",
       "      <td>...</td>\n",
       "      <td>0.0</td>\n",
       "      <td>0.0</td>\n",
       "      <td>0.0</td>\n",
       "      <td>0.0</td>\n",
       "      <td>0.0</td>\n",
       "      <td>0.0</td>\n",
       "      <td>0.0</td>\n",
       "      <td>0.0</td>\n",
       "      <td>0.0</td>\n",
       "      <td>0.0</td>\n",
       "    </tr>\n",
       "    <tr>\n",
       "      <th>5813</th>\n",
       "      <td>0.022466</td>\n",
       "      <td>0.011963</td>\n",
       "      <td>0.644417</td>\n",
       "      <td>0.000000</td>\n",
       "      <td>0.095238</td>\n",
       "      <td>1.0</td>\n",
       "      <td>0.0</td>\n",
       "      <td>0.000000</td>\n",
       "      <td>0.000000</td>\n",
       "      <td>0.0</td>\n",
       "      <td>...</td>\n",
       "      <td>0.0</td>\n",
       "      <td>0.0</td>\n",
       "      <td>0.0</td>\n",
       "      <td>1.0</td>\n",
       "      <td>0.0</td>\n",
       "      <td>0.0</td>\n",
       "      <td>0.0</td>\n",
       "      <td>0.0</td>\n",
       "      <td>0.0</td>\n",
       "      <td>0.0</td>\n",
       "    </tr>\n",
       "  </tbody>\n",
       "</table>\n",
       "<p>5 rows × 38 columns</p>\n",
       "</div>"
      ],
      "text/plain": [
       "        Disbursed_amount  Asset_cost       Ltv  Manufacturer_id  State_id  \\\n",
       "179568          0.052762    0.024006  0.927362         0.000000  0.095238   \n",
       "5035            0.056126    0.041807  0.663804         0.054054  0.095238   \n",
       "31099           0.035026    0.015270  0.811043         0.000000  0.238095   \n",
       "47710           0.031444    0.019528  0.663313         0.369369  0.380952   \n",
       "5813            0.022466    0.011963  0.644417         0.000000  0.095238   \n",
       "\n",
       "        Aadhar_flag  Voterid_flag  Perform_cns_score  Pri_no_of_accts  \\\n",
       "179568          1.0           0.0           0.000000         0.000000   \n",
       "5035            0.0           1.0           0.000000         0.000000   \n",
       "31099           0.0           0.0           0.000000         0.000000   \n",
       "47710           1.0           0.0           0.926966         0.006623   \n",
       "5813            1.0           0.0           0.000000         0.000000   \n",
       "\n",
       "        Pri_active_accts  ...  Perform_cns_score_description_K-High Risk  \\\n",
       "179568               0.0  ...                                        0.0   \n",
       "5035                 0.0  ...                                        0.0   \n",
       "31099                0.0  ...                                        0.0   \n",
       "47710                0.0  ...                                        0.0   \n",
       "5813                 0.0  ...                                        0.0   \n",
       "\n",
       "        Perform_cns_score_description_L-Very High Risk  \\\n",
       "179568                                             0.0   \n",
       "5035                                               0.0   \n",
       "31099                                              0.0   \n",
       "47710                                              0.0   \n",
       "5813                                               0.0   \n",
       "\n",
       "        Perform_cns_score_description_M-Very High Risk  \\\n",
       "179568                                             0.0   \n",
       "5035                                               0.0   \n",
       "31099                                              0.0   \n",
       "47710                                              0.0   \n",
       "5813                                               0.0   \n",
       "\n",
       "        Perform_cns_score_description_No Bureau History Available  \\\n",
       "179568                                                1.0           \n",
       "5035                                                  1.0           \n",
       "31099                                                 1.0           \n",
       "47710                                                 0.0           \n",
       "5813                                                  1.0           \n",
       "\n",
       "        Perform_cns_score_description_Not Scored: More than 50 active Accounts found  \\\n",
       "179568                                                0.0                              \n",
       "5035                                                  0.0                              \n",
       "31099                                                 0.0                              \n",
       "47710                                                 0.0                              \n",
       "5813                                                  0.0                              \n",
       "\n",
       "        Perform_cns_score_description_Not Scored: No Activity seen on the customer (Inactive)  \\\n",
       "179568                                                0.0                                       \n",
       "5035                                                  0.0                                       \n",
       "31099                                                 0.0                                       \n",
       "47710                                                 0.0                                       \n",
       "5813                                                  0.0                                       \n",
       "\n",
       "        Perform_cns_score_description_Not Scored: No Updates available in last 36 months  \\\n",
       "179568                                                0.0                                  \n",
       "5035                                                  0.0                                  \n",
       "31099                                                 0.0                                  \n",
       "47710                                                 0.0                                  \n",
       "5813                                                  0.0                                  \n",
       "\n",
       "        Perform_cns_score_description_Not Scored: Not Enough Info available on the customer  \\\n",
       "179568                                                0.0                                     \n",
       "5035                                                  0.0                                     \n",
       "31099                                                 0.0                                     \n",
       "47710                                                 0.0                                     \n",
       "5813                                                  0.0                                     \n",
       "\n",
       "        Perform_cns_score_description_Not Scored: Only a Guarantor  \\\n",
       "179568                                                0.0            \n",
       "5035                                                  0.0            \n",
       "31099                                                 0.0            \n",
       "47710                                                 0.0            \n",
       "5813                                                  0.0            \n",
       "\n",
       "        Perform_cns_score_description_Not Scored: Sufficient History Not Available  \n",
       "179568                                                0.0                           \n",
       "5035                                                  0.0                           \n",
       "31099                                                 0.0                           \n",
       "47710                                                 0.0                           \n",
       "5813                                                  0.0                           \n",
       "\n",
       "[5 rows x 38 columns]"
      ]
     },
     "execution_count": 38,
     "metadata": {},
     "output_type": "execute_result"
    }
   ],
   "source": [
    "le_X_train.head()"
   ]
  },
  {
   "cell_type": "markdown",
   "metadata": {},
   "source": [
    "## Export train and test dataframes"
   ]
  },
  {
   "cell_type": "code",
   "execution_count": 39,
   "metadata": {},
   "outputs": [],
   "source": [
    "trans_X_train.to_csv('../data/X_train.csv', index=True)\n",
    "y_train.to_csv('../data/y_train.csv', index=True)\n",
    "trans_X_test.to_csv('../data/X_test.csv', index=True)\n",
    "y_test.to_csv('../data/y_test.csv', index=True)"
   ]
  },
  {
   "cell_type": "markdown",
   "metadata": {},
   "source": [
    "## Feature Selection"
   ]
  },
  {
   "cell_type": "markdown",
   "metadata": {},
   "source": [
    "### Correlation"
   ]
  },
  {
   "cell_type": "code",
   "execution_count": 40,
   "metadata": {},
   "outputs": [
    {
     "name": "stdout",
     "output_type": "stream",
     "text": [
      "Loan_default                    1.000000\n",
      "Ltv                             0.098208\n",
      "Disbursed_amount                0.077675\n",
      "Perform_cns_score               0.057929\n",
      "State_id                        0.048075\n",
      "Voterid_flag                    0.043747\n",
      "Credit_history_length_months    0.042126\n",
      "Aadhar_flag                     0.041593\n",
      "Pri_active_accts                0.041451\n",
      "Age                             0.036549\n",
      "Pri_no_of_accts                 0.035456\n",
      "New_accts_in_last_six_months    0.029400\n",
      "Manufacturer_id                 0.025039\n",
      "Average_loan_tenure             0.024782\n",
      "Asset_cost                      0.014261\n",
      "Name: Loan_default, dtype: float64\n"
     ]
    }
   ],
   "source": [
    "# Drop non-numeric columns\n",
    "numeric_df = df_1.select_dtypes(include=['int64', 'float64'])\n",
    "\n",
    "# Calculate correlations\n",
    "correlations = numeric_df.corr()['Loan_default'].abs().sort_values(ascending=False)\n",
    "print(correlations)"
   ]
  },
  {
   "cell_type": "markdown",
   "metadata": {},
   "source": [
    "### Recursive Feature Elimination"
   ]
  },
  {
   "cell_type": "code",
   "execution_count": 41,
   "metadata": {},
   "outputs": [
    {
     "name": "stdout",
     "output_type": "stream",
     "text": [
      "Index(['Disbursed_amount', 'Asset_cost', 'Ltv', 'Manufacturer_id', 'State_id',\n",
      "       'Perform_cns_score', 'Pri_no_of_accts', 'Pri_active_accts',\n",
      "       'New_accts_in_last_six_months', 'Average_loan_tenure',\n",
      "       'Credit_history_length_months', 'Age', 'No_of_inquiries_2',\n",
      "       'No_of_inquiries_3+',\n",
      "       'Perform_cns_score_description_No Bureau History Available',\n",
      "       'Perform_cns_score_description_Not Scored: No Activity seen on the customer (Inactive)',\n",
      "       'Perform_cns_score_description_Not Scored: No Updates available in last 36 months',\n",
      "       'Perform_cns_score_description_Not Scored: Not Enough Info available on the customer',\n",
      "       'Perform_cns_score_description_Not Scored: Only a Guarantor',\n",
      "       'Perform_cns_score_description_Not Scored: Sufficient History Not Available'],\n",
      "      dtype='object')\n"
     ]
    }
   ],
   "source": [
    "# RFE feature selection\n",
    "from sklearn.linear_model import LogisticRegression\n",
    "from sklearn.feature_selection import RFE\n",
    "\n",
    "model = LogisticRegression()\n",
    "\n",
    "rfe = RFE(model, n_features_to_select=20)\n",
    "\n",
    "rfe.fit(X_train, y_train)\n",
    "\n",
    "selected_features = X_train.columns[rfe.support_]\n",
    "print(selected_features)"
   ]
  },
  {
   "cell_type": "markdown",
   "metadata": {},
   "source": [
    "### Lasso Regression"
   ]
  },
  {
   "cell_type": "code",
   "execution_count": 42,
   "metadata": {},
   "outputs": [
    {
     "name": "stdout",
     "output_type": "stream",
     "text": [
      "37\n",
      "Index(['Disbursed_amount', 'Asset_cost', 'Ltv', 'Manufacturer_id', 'State_id',\n",
      "       'Aadhar_flag', 'Voterid_flag', 'Perform_cns_score', 'Pri_no_of_accts',\n",
      "       'Pri_active_accts', 'New_accts_in_last_six_months',\n",
      "       'Average_loan_tenure', 'Credit_history_length_months', 'Age',\n",
      "       'Employment_type_Salaried', 'Employment_type_Self employed',\n",
      "       'No_of_inquiries_1', 'No_of_inquiries_2', 'No_of_inquiries_3+',\n",
      "       'Perform_cns_score_description_B-Very Low Risk',\n",
      "       'Perform_cns_score_description_C-Very Low Risk',\n",
      "       'Perform_cns_score_description_D-Very Low Risk',\n",
      "       'Perform_cns_score_description_E-Low Risk',\n",
      "       'Perform_cns_score_description_F-Low Risk',\n",
      "       'Perform_cns_score_description_G-Low Risk',\n",
      "       'Perform_cns_score_description_H-Medium Risk',\n",
      "       'Perform_cns_score_description_I-Medium Risk',\n",
      "       'Perform_cns_score_description_J-High Risk',\n",
      "       'Perform_cns_score_description_K-High Risk',\n",
      "       'Perform_cns_score_description_L-Very High Risk',\n",
      "       'Perform_cns_score_description_M-Very High Risk',\n",
      "       'Perform_cns_score_description_No Bureau History Available',\n",
      "       'Perform_cns_score_description_Not Scored: No Activity seen on the customer (Inactive)',\n",
      "       'Perform_cns_score_description_Not Scored: No Updates available in last 36 months',\n",
      "       'Perform_cns_score_description_Not Scored: Not Enough Info available on the customer',\n",
      "       'Perform_cns_score_description_Not Scored: Only a Guarantor',\n",
      "       'Perform_cns_score_description_Not Scored: Sufficient History Not Available'],\n",
      "      dtype='object')\n"
     ]
    }
   ],
   "source": [
    "# Lasso feature selection \n",
    "lasso_log = LogisticRegression(penalty='l1', solver='liblinear')\n",
    "\n",
    "lasso_log.fit(X_train, y_train)\n",
    "\n",
    "selected_features = X_train.columns[lasso_log.coef_[0] != 0]\n",
    "\n",
    "print(len(selected_features))\n",
    "print(selected_features)"
   ]
  },
  {
   "cell_type": "code",
   "execution_count": null,
   "metadata": {},
   "outputs": [],
   "source": []
  }
 ],
 "metadata": {
  "kernelspec": {
   "display_name": "Python 3 (ipykernel)",
   "language": "python",
   "name": "python3"
  },
  "language_info": {
   "codemirror_mode": {
    "name": "ipython",
    "version": 3
   },
   "file_extension": ".py",
   "mimetype": "text/x-python",
   "name": "python",
   "nbconvert_exporter": "python",
   "pygments_lexer": "ipython3",
   "version": "3.11.9"
  }
 },
 "nbformat": 4,
 "nbformat_minor": 4
}
